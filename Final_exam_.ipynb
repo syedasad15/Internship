{
 "cells": [
  {
   "cell_type": "markdown",
   "metadata": {
    "id": "mw6Jytu8KGcN"
   },
   "source": [
    "# Problem Set 1"
   ]
  },
  {
   "cell_type": "markdown",
   "metadata": {
    "id": "HOMEi3Z9KGcT"
   },
   "source": [
    "\n",
    "\n",
    "\n",
    "**Due**: AUGUST 27, before class (before 4:00 PM).\n",
    "\n",
    "**How to submit**\n",
    "\n",
    "You need to send the `.ipynb` file with your answers plus an `.html` file, which will serve as a backup for us in case the `.ipynb` file cannot be opened on my or the TA's computer. In addition, you may also export the notebook as PDF and attach it to the email as well.\n",
    "\n",
    "Please use the following subject header for sending in your homework, so that we can make sure that nothing gets lost:\n",
    "\n",
    "Your id mentioned on offer letter: Your Name  \n",
    ".\n",
    "\n",
    "**Note** No help will be provided bny instructor you have to do it on your own.\n",
    "\n",
    "you will get certificates on basis its result\n",
    "\n"
   ]
  },
  {
   "cell_type": "code",
   "execution_count": 16,
   "metadata": {
    "id": "WEdIOlUnKGcW",
    "outputId": "a513524a-dbb9-4f25-a2d3-90d3f67181dc"
   },
   "outputs": [
    {
     "ename": "ModuleNotFoundError",
     "evalue": "No module named 'watermark'",
     "output_type": "error",
     "traceback": [
      "\u001b[1;31m---------------------------------------------------------------------------\u001b[0m",
      "\u001b[1;31mModuleNotFoundError\u001b[0m                       Traceback (most recent call last)",
      "Cell \u001b[1;32mIn[16], line 1\u001b[0m\n\u001b[1;32m----> 1\u001b[0m \u001b[43mget_ipython\u001b[49m\u001b[43m(\u001b[49m\u001b[43m)\u001b[49m\u001b[38;5;241;43m.\u001b[39;49m\u001b[43mrun_line_magic\u001b[49m\u001b[43m(\u001b[49m\u001b[38;5;124;43m'\u001b[39;49m\u001b[38;5;124;43mload_ext\u001b[39;49m\u001b[38;5;124;43m'\u001b[39;49m\u001b[43m,\u001b[49m\u001b[43m \u001b[49m\u001b[38;5;124;43m'\u001b[39;49m\u001b[38;5;124;43mwatermark\u001b[39;49m\u001b[38;5;124;43m'\u001b[39;49m\u001b[43m)\u001b[49m\n\u001b[0;32m      2\u001b[0m get_ipython()\u001b[38;5;241m.\u001b[39mrun_line_magic(\u001b[38;5;124m'\u001b[39m\u001b[38;5;124mwatermark\u001b[39m\u001b[38;5;124m'\u001b[39m, \u001b[38;5;124m\"\u001b[39m\u001b[38;5;124m -d -u -a \u001b[39m\u001b[38;5;124m'\u001b[39m\u001b[38;5;124m<Your Name>\u001b[39m\u001b[38;5;124m'\u001b[39m\u001b[38;5;124m -v -p numpy,scipy,matplotlib,sklearn\u001b[39m\u001b[38;5;124m\"\u001b[39m)\n",
      "File \u001b[1;32m~\\AppData\\Roaming\\Python\\Python312\\site-packages\\IPython\\core\\interactiveshell.py:2480\u001b[0m, in \u001b[0;36mInteractiveShell.run_line_magic\u001b[1;34m(self, magic_name, line, _stack_depth)\u001b[0m\n\u001b[0;32m   2478\u001b[0m     kwargs[\u001b[38;5;124m'\u001b[39m\u001b[38;5;124mlocal_ns\u001b[39m\u001b[38;5;124m'\u001b[39m] \u001b[38;5;241m=\u001b[39m \u001b[38;5;28mself\u001b[39m\u001b[38;5;241m.\u001b[39mget_local_scope(stack_depth)\n\u001b[0;32m   2479\u001b[0m \u001b[38;5;28;01mwith\u001b[39;00m \u001b[38;5;28mself\u001b[39m\u001b[38;5;241m.\u001b[39mbuiltin_trap:\n\u001b[1;32m-> 2480\u001b[0m     result \u001b[38;5;241m=\u001b[39m \u001b[43mfn\u001b[49m\u001b[43m(\u001b[49m\u001b[38;5;241;43m*\u001b[39;49m\u001b[43margs\u001b[49m\u001b[43m,\u001b[49m\u001b[43m \u001b[49m\u001b[38;5;241;43m*\u001b[39;49m\u001b[38;5;241;43m*\u001b[39;49m\u001b[43mkwargs\u001b[49m\u001b[43m)\u001b[49m\n\u001b[0;32m   2482\u001b[0m \u001b[38;5;66;03m# The code below prevents the output from being displayed\u001b[39;00m\n\u001b[0;32m   2483\u001b[0m \u001b[38;5;66;03m# when using magics with decorator @output_can_be_silenced\u001b[39;00m\n\u001b[0;32m   2484\u001b[0m \u001b[38;5;66;03m# when the last Python token in the expression is a ';'.\u001b[39;00m\n\u001b[0;32m   2485\u001b[0m \u001b[38;5;28;01mif\u001b[39;00m \u001b[38;5;28mgetattr\u001b[39m(fn, magic\u001b[38;5;241m.\u001b[39mMAGIC_OUTPUT_CAN_BE_SILENCED, \u001b[38;5;28;01mFalse\u001b[39;00m):\n",
      "File \u001b[1;32m~\\AppData\\Roaming\\Python\\Python312\\site-packages\\IPython\\core\\magics\\extension.py:33\u001b[0m, in \u001b[0;36mExtensionMagics.load_ext\u001b[1;34m(self, module_str)\u001b[0m\n\u001b[0;32m     31\u001b[0m \u001b[38;5;28;01mif\u001b[39;00m \u001b[38;5;129;01mnot\u001b[39;00m module_str:\n\u001b[0;32m     32\u001b[0m     \u001b[38;5;28;01mraise\u001b[39;00m UsageError(\u001b[38;5;124m'\u001b[39m\u001b[38;5;124mMissing module name.\u001b[39m\u001b[38;5;124m'\u001b[39m)\n\u001b[1;32m---> 33\u001b[0m res \u001b[38;5;241m=\u001b[39m \u001b[38;5;28;43mself\u001b[39;49m\u001b[38;5;241;43m.\u001b[39;49m\u001b[43mshell\u001b[49m\u001b[38;5;241;43m.\u001b[39;49m\u001b[43mextension_manager\u001b[49m\u001b[38;5;241;43m.\u001b[39;49m\u001b[43mload_extension\u001b[49m\u001b[43m(\u001b[49m\u001b[43mmodule_str\u001b[49m\u001b[43m)\u001b[49m\n\u001b[0;32m     35\u001b[0m \u001b[38;5;28;01mif\u001b[39;00m res \u001b[38;5;241m==\u001b[39m \u001b[38;5;124m'\u001b[39m\u001b[38;5;124malready loaded\u001b[39m\u001b[38;5;124m'\u001b[39m:\n\u001b[0;32m     36\u001b[0m     \u001b[38;5;28mprint\u001b[39m(\u001b[38;5;124m\"\u001b[39m\u001b[38;5;124mThe \u001b[39m\u001b[38;5;132;01m%s\u001b[39;00m\u001b[38;5;124m extension is already loaded. To reload it, use:\u001b[39m\u001b[38;5;124m\"\u001b[39m \u001b[38;5;241m%\u001b[39m module_str)\n",
      "File \u001b[1;32m~\\AppData\\Roaming\\Python\\Python312\\site-packages\\IPython\\core\\extensions.py:62\u001b[0m, in \u001b[0;36mExtensionManager.load_extension\u001b[1;34m(self, module_str)\u001b[0m\n\u001b[0;32m     55\u001b[0m \u001b[38;5;250m\u001b[39m\u001b[38;5;124;03m\"\"\"Load an IPython extension by its module name.\u001b[39;00m\n\u001b[0;32m     56\u001b[0m \n\u001b[0;32m     57\u001b[0m \u001b[38;5;124;03mReturns the string \"already loaded\" if the extension is already loaded,\u001b[39;00m\n\u001b[0;32m     58\u001b[0m \u001b[38;5;124;03m\"no load function\" if the module doesn't have a load_ipython_extension\u001b[39;00m\n\u001b[0;32m     59\u001b[0m \u001b[38;5;124;03mfunction, or None if it succeeded.\u001b[39;00m\n\u001b[0;32m     60\u001b[0m \u001b[38;5;124;03m\"\"\"\u001b[39;00m\n\u001b[0;32m     61\u001b[0m \u001b[38;5;28;01mtry\u001b[39;00m:\n\u001b[1;32m---> 62\u001b[0m     \u001b[38;5;28;01mreturn\u001b[39;00m \u001b[38;5;28;43mself\u001b[39;49m\u001b[38;5;241;43m.\u001b[39;49m\u001b[43m_load_extension\u001b[49m\u001b[43m(\u001b[49m\u001b[43mmodule_str\u001b[49m\u001b[43m)\u001b[49m\n\u001b[0;32m     63\u001b[0m \u001b[38;5;28;01mexcept\u001b[39;00m \u001b[38;5;167;01mModuleNotFoundError\u001b[39;00m:\n\u001b[0;32m     64\u001b[0m     \u001b[38;5;28;01mif\u001b[39;00m module_str \u001b[38;5;129;01min\u001b[39;00m BUILTINS_EXTS:\n",
      "File \u001b[1;32m~\\AppData\\Roaming\\Python\\Python312\\site-packages\\IPython\\core\\extensions.py:77\u001b[0m, in \u001b[0;36mExtensionManager._load_extension\u001b[1;34m(self, module_str)\u001b[0m\n\u001b[0;32m     75\u001b[0m \u001b[38;5;28;01mwith\u001b[39;00m \u001b[38;5;28mself\u001b[39m\u001b[38;5;241m.\u001b[39mshell\u001b[38;5;241m.\u001b[39mbuiltin_trap:\n\u001b[0;32m     76\u001b[0m     \u001b[38;5;28;01mif\u001b[39;00m module_str \u001b[38;5;129;01mnot\u001b[39;00m \u001b[38;5;129;01min\u001b[39;00m sys\u001b[38;5;241m.\u001b[39mmodules:\n\u001b[1;32m---> 77\u001b[0m         mod \u001b[38;5;241m=\u001b[39m \u001b[43mimport_module\u001b[49m\u001b[43m(\u001b[49m\u001b[43mmodule_str\u001b[49m\u001b[43m)\u001b[49m\n\u001b[0;32m     78\u001b[0m     mod \u001b[38;5;241m=\u001b[39m sys\u001b[38;5;241m.\u001b[39mmodules[module_str]\n\u001b[0;32m     79\u001b[0m     \u001b[38;5;28;01mif\u001b[39;00m \u001b[38;5;28mself\u001b[39m\u001b[38;5;241m.\u001b[39m_call_load_ipython_extension(mod):\n",
      "File \u001b[1;32me:\\New folder (2)\\Lib\\importlib\\__init__.py:90\u001b[0m, in \u001b[0;36mimport_module\u001b[1;34m(name, package)\u001b[0m\n\u001b[0;32m     88\u001b[0m             \u001b[38;5;28;01mbreak\u001b[39;00m\n\u001b[0;32m     89\u001b[0m         level \u001b[38;5;241m+\u001b[39m\u001b[38;5;241m=\u001b[39m \u001b[38;5;241m1\u001b[39m\n\u001b[1;32m---> 90\u001b[0m \u001b[38;5;28;01mreturn\u001b[39;00m \u001b[43m_bootstrap\u001b[49m\u001b[38;5;241;43m.\u001b[39;49m\u001b[43m_gcd_import\u001b[49m\u001b[43m(\u001b[49m\u001b[43mname\u001b[49m\u001b[43m[\u001b[49m\u001b[43mlevel\u001b[49m\u001b[43m:\u001b[49m\u001b[43m]\u001b[49m\u001b[43m,\u001b[49m\u001b[43m \u001b[49m\u001b[43mpackage\u001b[49m\u001b[43m,\u001b[49m\u001b[43m \u001b[49m\u001b[43mlevel\u001b[49m\u001b[43m)\u001b[49m\n",
      "File \u001b[1;32m<frozen importlib._bootstrap>:1387\u001b[0m, in \u001b[0;36m_gcd_import\u001b[1;34m(name, package, level)\u001b[0m\n",
      "File \u001b[1;32m<frozen importlib._bootstrap>:1360\u001b[0m, in \u001b[0;36m_find_and_load\u001b[1;34m(name, import_)\u001b[0m\n",
      "File \u001b[1;32m<frozen importlib._bootstrap>:1324\u001b[0m, in \u001b[0;36m_find_and_load_unlocked\u001b[1;34m(name, import_)\u001b[0m\n",
      "\u001b[1;31mModuleNotFoundError\u001b[0m: No module named 'watermark'"
     ]
    }
   ],
   "source": [
    "%load_ext watermark\n",
    "%watermark  -d -u -a '<Your Name>' -v -p numpy,scipy,matplotlib,sklearn"
   ]
  },
  {
   "cell_type": "markdown",
   "metadata": {
    "id": "1P8cqRfMKGcc"
   },
   "source": [
    "The watermark package that is being used in the next code cell provides a helper function of the same name, `%watermark` for showing information about your computational environment. This is usefult to keep track of what software versions are/were being used. If you should encounter issues with the code, please make sure that your software package have the same version as the the ones shown in the pre-executed watermark cell.\n",
    "\n",
    "Before you execute the watermark cell, you need to install watermark first. If you have not done this yet. To install the watermark package, simply run\n",
    "\n",
    "    !pip install watermark\n",
    "    \n",
    "or\n",
    "\n",
    "    !conda install watermark -c conda-forge\n",
    "    \n",
    "in the a new code cell. Alternatively, you can run either of the two commands (the latter only if you have installed Anaconda or Miniconda) in your command line terminal (e.g., a Linux shell, the Terminal app on macOS, or Cygwin, Putty, etc. on Windows).\n",
    "\n",
    "For more information installing Python, please refer to the previous lectures and ask the TA for help."
   ]
  },
  {
   "cell_type": "markdown",
   "metadata": {
    "id": "UUYhLo9CKGcf"
   },
   "source": [
    "## E 1)\n",
    "\n",
    "Pick 3 machine learning application examples from the first lecture (see section 1.2 in the lecture notes, shared in group\n",
    "and answer the following questions:\n",
    "\n",
    "- What is the overall goal?\n",
    "- How would an appropriate dataset look like?\n",
    "- Which general machine learning category (supervised, unsupervised, reinforcement learning) does this problem fit in?\n",
    "- How would you evaluate the performance of your model (in very general, non technical terms)\n",
    "\n",
    "\n",
    "**Example -- Email Spam classification:**\n",
    "\n",
    "- **Goal.** A potential goal would be to learn how to classify emails as spam or non-spam.\n",
    "- **Dataset.** The dataset is a set consisting of emails as text data and their spam and non-spam labels.\n",
    "- **Category.** Since we are working with class labels (spam, non-spam), this is a supervised learning problem.\n",
    "- **Measure Performance.** Predict class labels in the test dataset and count the number of correct predictions to asses the prediction accuracy."
   ]
  },
  {
   "cell_type": "markdown",
   "metadata": {
    "id": "pyD5e00JKGch"
   },
   "source": [
    "1. Face Detection and Matching\n",
    "Overall Goal:\n",
    "The goal is to identify and match human faces in images or videos. Face detection identifies where the faces are out of the provided images or videos, while face matching is used to verify if two different faces belong to the same person. The applications of face detection and matching can be seen in security systems, biometric authentication, social tagging, and many more.\n",
    "\n",
    "Appropriate Dataset\n",
    "It would include images or video frames with annotations indicating the location of faces, providing labeled identities to match. A typical dataset may feature thousands of images of people provided under variation in lighting, camera viewing angle, facial expression, and background.\n",
    "\n",
    "Machine Learning Category:\n",
    "The problem falls into the category of supervised learning, where models are trained on labeled datasets such as face images with their associated labeled identities.\n",
    "\n",
    "Performance Evaluation:\n",
    "You would validate your model based on the efficiency in face detection and matching. Success would be if it identifies and matches faces from new, unseen images and videos correctly. The performance could be measured in terms of accuracy, precision, and recall.\n",
    "\n",
    "2. Sports Predictions\n",
    "Overall Goal:\n",
    "The aim, in essence, is to predict the outcomes of the sporting events, winners, scores, or even performance by players. This can then be used in betting, fantasy sports, or even optimizing team strategy.\n",
    "\n",
    "Appropriate Dataset:\n",
    "A dataset that would best fit the requirements would be one that includes historical sports data such as statistics of teams, performance of players, game results, weather conditions, and maybe even expert predictions. It could also, if possible, include some sort of time-series data for each sport so that one could analyze the effect of the trends over seasons.\n",
    "\n",
    "Machine Learning Category:\n",
    "In most cases, this falls under supervised learning if historical data is used to predict future outcomes. However, when one is designing a system that learns autonomously from experience to make better predictions based on feedback received from the real world, then this could even be a case of reinforcement learning, something like a betting model.\n",
    "\n",
    "Performance Evaluation:\n",
    "You would evaluate the model by its performance at predicting the outcomes of previously unseen games. Success could be measured with a variety of metrics including accuracy in correct outcome prediction, mean squared error for predicted scores, and return on investment for betting.\n",
    "\n",
    "3. Product Recommendations\n",
    "Overall Goal:\n",
    "The recommendation would go to the users based on their preferences, past behaviors, and possibly other users' behaviors. This could enrich user experience, enhance sales, and improve customer retention in e-commerce platforms.\n",
    "\n",
    "Dataset:\n",
    "The dataset shall contain user interaction data, such as clicks, purchases, ratings, product data, and perhaps user demographics. In general, the size of the dataset is usually very large, with thousands of user-product interactions.\n",
    "\n",
    "Category of Machine Learning:\n",
    "This could be a problem for both supervised and unsupervised learning: most collaborative filtering is unsupervised, since it relies on the similarities between users and items, while some are supervised, as there exist models that predict certain user preferences based on their past behavior. Some systems might even use reinforcement learning to adjust recommendations over time, based on user feedback.\n",
    "\n",
    "Performance Evaluation:\n",
    "You would test your model on how well it makes recommendations that fit the preferences of a user. Success would be measured in terms of user engagement, for example, click-through rates, purchase rates, or more advanced metrics such as precision, recall, and mean reciprocal rank."
   ]
  },
  {
   "cell_type": "markdown",
   "metadata": {
    "id": "Jc6V4t-dKGc1"
   },
   "source": [
    "## E 2)\n",
    "\n",
    "If you think about the task of spam classification more thoroughly, do you think that the classification accuracy or misclassification error is a good error metric of how good an email classifier is? What are potential pitfalls? (Hint: think about false positives [non-spam email classified as spam] and false negatives [spam email classified as non-spam])."
   ]
  },
  {
   "cell_type": "markdown",
   "metadata": {
    "id": "KLo0lrFsKGc2"
   },
   "source": [
    "Spam classification depending only on the accuracy of classification can be indeed misleading, particularly for imbalanced data sets. It is important that a model could get high accuracy since it has to classify most emails as non-spam, with the majority probably being right while it misses lots of spam. There are pitfalls: false positives  and false negatives wherein spam emails may slip through. These may be improved with better metrics including precision (minimum false positives), recall (minimum false negatives), the F1-score (effective balance between precision and recall), and ROC-AUC for measuring discrimination capability.\n"
   ]
  },
  {
   "cell_type": "markdown",
   "metadata": {
    "id": "AkEo2xMlKGc3"
   },
   "source": [
    "## E 3)\n",
    "\n",
    "In the exercise example of E 1), email spam classification was listed as an example of a supervised machine learning problem.\n",
    "List 2 examples of unsupervised learning tasks that would fall into the category of clustering. In one or more sentences, explain why you would describe these examples as clustering tasks and not supervised learning tasks. Select examples that are not already that are in the \"Lecture note list\" from E 1)."
   ]
  },
  {
   "cell_type": "markdown",
   "metadata": {
    "id": "n2w235ExKGc3"
   },
   "source": [
    "1- Market Customer Segmentation :\n",
    "It ranges from segmenting customers based on purchasing behavior to demographics and interaction patterns. The task becomes a clustering task as no predefined labels are given, and hence, natural groups need to be identified. In contrast, unsupervised learning does not try to learn the nature of some intrinsic structure in the data but rather extracts information from the data, which is unlabeled in nature.\n",
    "\n",
    "2- Document Clustering in Text Mining:\n",
    "This is a task that groups documents into groups of similar content or themes, for example, news articles, and research papers. This will be taken as a clustering task where we identify document similarities and form groups without any prior labeling being provided. No such predetermined categories have been there and an algorithm automatically identifies patterns and groups getting formed within the data. Hence, it's separated from supervised learning into another discipline."
   ]
  },
  {
   "cell_type": "markdown",
   "metadata": {
    "id": "QP-L4xtlKGc4"
   },
   "source": [
    "## E 4)\n",
    "\n",
    "In the *k*-nearest neighbor (*k*-NN) algorithm, what computation happens at training and what computation happens at test time? Explain your answer in 1-2 sentences."
   ]
  },
  {
   "cell_type": "markdown",
   "metadata": {
    "id": "GeT6flX3KGc6"
   },
   "source": [
    "\n",
    "In the k-nearest neighbor (k-NN) algorithm, no actual computation happens during training because it is a lazy learning algorithm that simply stores the training data. At test time, the algorithm computes the distances between the test instance and all training instances to identify the k nearest neighbors, and then predicts the label based on these neighbors."
   ]
  },
  {
   "cell_type": "markdown",
   "metadata": {
    "id": "XYYpD4YsKGc6"
   },
   "source": [
    "## E 5)\n",
    "\n",
    "Does (*k*-NN) work better or worse if we add more information by adding more feature variables (assuming the number of training examples is fixed)? Explain your reasoning."
   ]
  },
  {
   "cell_type": "markdown",
   "metadata": {
    "id": "_GoRVJi-KGc7"
   },
   "source": [
    "\n",
    "In k-nearest neighbor (k-NN), adding more feature variables (dimensions) often leads to worse performance if the number of training examples is fixed. This is due to the curse of dimensionality, where the distance between points in higher-dimensional space becomes less meaningful because the data points become more spread out. As a result, the nearest neighbors may not be as \"near,\" reducing the effectiveness of the algorithm. Additionally, with more features and the same number of training examples, the model may struggle with overfitting or capturing noise"
   ]
  },
  {
   "cell_type": "markdown",
   "metadata": {
    "id": "Ym5YGQz3KGc7"
   },
   "source": [
    "## E 6)\n",
    "\n",
    "If your dataset contains several noisy examples (or outliers), is it better to increase or decrease *k*? Explain your reasoning."
   ]
  },
  {
   "cell_type": "markdown",
   "metadata": {
    "id": "XGqL8oZAKGc8"
   },
   "source": [
    "\n",
    "If your dataset contains noisy examples or outliers, it is generally better to increase k in the k-nearest neighbor (k-NN) algorithm. By increasing k, the algorithm considers more neighbors when making predictions, which helps average out the effect of noisy or outlier points. A larger k reduces the influence of any single noisy data point, leading to more robust and stable predictions. Conversely, a smaller k might allow the algorithm to be more sensitive to outliers, resulting in less accurate predictions"
   ]
  },
  {
   "cell_type": "markdown",
   "metadata": {
    "id": "ExN41e7iKGc8"
   },
   "source": [
    "## E 7)\n",
    "\n",
    "Implement the Kronecker Delta function in Python,\n",
    "\n",
    "$$\n",
    "\\delta(i, j) =\n",
    "    \\begin{cases}\n",
    "            1, &         \\text{if } i=j,\\\\\n",
    "            0, &         \\text{if } i\\neq j.\n",
    "    \\end{cases}\n",
    "$$\n",
    "\n",
    "The `assert` statements are here to help you: They will raise an `AssertionError` if your function returns unexpected results based on the test cases."
   ]
  },
  {
   "cell_type": "code",
   "execution_count": null,
   "metadata": {
    "id": "SUsB3PYNKGc9"
   },
   "outputs": [],
   "source": [
    "# This is an example implementing a Dirac Delta Function\n",
    "\n",
    "def dirac_delta(x):\n",
    "    if x > 0.5:\n",
    "        return 1\n",
    "    else:\n",
    "        return 0\n",
    "\n",
    "assert dirac_delta(1) == 1\n",
    "assert dirac_delta(2) == 1\n",
    "assert dirac_delta(-1) == 0\n",
    "assert dirac_delta(0.5) == 0"
   ]
  },
  {
   "cell_type": "code",
   "execution_count": null,
   "metadata": {
    "id": "Bu9uwCldKGc-"
   },
   "outputs": [],
   "source": [
    "def kronecker_delta(i, j):\n",
    "# ENTER YOUR CODE HERE\n",
    "    if(i==j):\n",
    "            return 1\n",
    "    else:\n",
    "        return 0\n",
    "\n",
    "# DO NOT EDIT THE LINES BELOW\n",
    "assert kronecker_delta(1, 0) == 0\n",
    "assert kronecker_delta(2, 2) == 1\n",
    "assert kronecker_delta(-1, 1) == 0\n",
    "assert kronecker_delta(0.5, 0.1) == 0"
   ]
  },
  {
   "cell_type": "markdown",
   "metadata": {
    "id": "XvVPXTiPKGc-"
   },
   "source": [
    "## E 8)\n",
    "\n",
    "Suppose `y_true` is a list that contains true class labels, and `y_pred` is an array with predicted class labels from some machine learning task. Calculate the prediction accuracy in percent (without using any external libraries)."
   ]
  },
  {
   "cell_type": "code",
   "execution_count": null,
   "metadata": {
    "id": "S7RCgL7KKGc_",
    "outputId": "cc041dab-9fd1-4438-c0bc-e982f73a855e"
   },
   "outputs": [
    {
     "name": "stdout",
     "output_type": "stream",
     "text": [
      "Accuracy: 80.00%\n"
     ]
    }
   ],
   "source": [
    "y_true = [1, 2, 0, 1, 1, 2, 3, 1, 2, 1]\n",
    "y_pred = [1, 2, 1, 1, 1, 0, 3, 1, 2, 1]\n",
    "\n",
    "\n",
    "# ENTER YOUR CODE HERE\n",
    "\n",
    "correct = 0\n",
    "for true, pred in zip(y_true, y_pred):\n",
    "    if true == pred:\n",
    "        correct += 1\n",
    "\n",
    "acc = (correct / len(y_true)) * 100\n",
    "\n",
    "print('Accuracy: %.2f%%' % acc)"
   ]
  },
  {
   "cell_type": "markdown",
   "metadata": {
    "id": "Rqhhn-zgKGdA"
   },
   "source": [
    "## E 9)\n",
    "\n",
    "Import the NumPy library to create a 3x3 matrix with values ranging 0-8. The expected output should look as follows:\n",
    "\n",
    "```python\n",
    "array([[0, 1, 2],\n",
    "       [3, 4, 5],\n",
    "       [6, 7, 8]])\n",
    "```"
   ]
  },
  {
   "cell_type": "code",
   "execution_count": null,
   "metadata": {
    "id": "pcqWhC8xKGdB",
    "outputId": "43e00db4-6ddb-4799-9283-f21815785d95"
   },
   "outputs": [
    {
     "name": "stdout",
     "output_type": "stream",
     "text": [
      "'''python\n",
      "array( [[0 1 2]\n",
      " [3 4 5]\n",
      " [6 7 8]]\n"
     ]
    }
   ],
   "source": [
    "import numpy as np\n",
    "\n",
    "# ENTER YOUR CODE HERE\n",
    "mat = np.arange(9).reshape(3, 3)\n",
    "\n",
    "print(\"'''python\\narray(\",mat)"
   ]
  },
  {
   "cell_type": "markdown",
   "metadata": {
    "id": "IfuT4FuZKGdC"
   },
   "source": [
    "## E 10)\n",
    "\n",
    "Use create a 2x2 NumPy array with random values drawn from a standard normal distribution using the random seed `123`:\n",
    "\n",
    "If you are using the 123 random seed, the expected result should be:\n",
    "\n",
    "```python\n",
    "array([[-1.0856306 ,  0.99734545],\n",
    "       [ 0.2829785 , -1.50629471]])\n",
    "```"
   ]
  },
  {
   "cell_type": "code",
   "execution_count": null,
   "metadata": {
    "id": "RGxbt9VzKGdD",
    "outputId": "b1d75bb6-b13f-47db-e757-ae4e2e6466a1"
   },
   "outputs": [
    {
     "name": "stdout",
     "output_type": "stream",
     "text": [
      "'''python\n",
      "array( [[-1.0856306   0.99734545]\n",
      " [ 0.2829785  -1.50629471]]\n"
     ]
    }
   ],
   "source": [
    "# ENTER YOUR CODE HERE\n",
    "np.random.seed(123)\n",
    "\n",
    "arr = np.random.randn(2, 2)\n",
    "\n",
    "print(\"'''python\\narray(\",arr)"
   ]
  },
  {
   "cell_type": "markdown",
   "metadata": {
    "id": "NV0bDsqdKGdE"
   },
   "source": [
    "## E 11)\n",
    "\n",
    "Given an array `A`,\n",
    "\n",
    "```python\n",
    "array([[ 1,  2,  3,  4],\n",
    "       [ 5,  6,  7,  8],\n",
    "       [ 9, 10, 11, 12],\n",
    "       [13, 14, 15, 16]])\n",
    "```\n",
    "\n",
    "use the NumPy slicing syntax to only select the 2x2 center of this matrix, i.e., the subarray\n",
    "\n",
    "```python\n",
    "array([[ 6,  7],\n",
    "       [10, 11]]).\n",
    "```"
   ]
  },
  {
   "cell_type": "code",
   "execution_count": null,
   "metadata": {
    "id": "ursOyP06KGdF",
    "outputId": "90584877-6c62-4a89-ee3d-08236e62b15e"
   },
   "outputs": [
    {
     "name": "stdout",
     "output_type": "stream",
     "text": [
      "[[ 6  7]\n",
      " [10 11]]\n"
     ]
    }
   ],
   "source": [
    "A = np.array([\n",
    "    [1, 2, 3, 4],\n",
    "    [5, 6, 7, 8],\n",
    "    [9, 10, 11, 12],\n",
    "    [13, 14, 15, 16]])\n",
    "\n",
    "# ENTER YOUR CODE HERE\n",
    "\n",
    "sub = A[1:3, 1:3]\n",
    "print(sub)"
   ]
  },
  {
   "cell_type": "markdown",
   "metadata": {
    "id": "hqE6cflBKGdG"
   },
   "source": [
    "## E 12)\n",
    "\n",
    "Given the array `A` below, find the most frequent integer in that array:"
   ]
  },
  {
   "cell_type": "code",
   "execution_count": null,
   "metadata": {
    "id": "QJ-pnjk2KGdH",
    "outputId": "c135c9dc-1d34-4bad-9799-99becaa5af79"
   },
   "outputs": [
    {
     "name": "stdout",
     "output_type": "stream",
     "text": [
      "3\n"
     ]
    }
   ],
   "source": [
    "import numpy as np\n",
    "rng = np.random.RandomState(123)\n",
    "A = rng.randint(0, 10, 200)\n",
    "\n",
    "# ENTER YOUR CODE HERE\n",
    "freq = np.bincount(A).argmax()\n",
    "print(\"The most frequent integer is:\",freq)"
   ]
  },
  {
   "cell_type": "markdown",
   "metadata": {
    "id": "6iYHpe6_KGdH"
   },
   "source": [
    "## E 13)"
   ]
  },
  {
   "cell_type": "markdown",
   "metadata": {
    "id": "TJ7BNwd8KGdI"
   },
   "source": [
    "Complete the line of code below to read in the `'train_data.txt'` dataset, which consists of 3 columns: 2 feature columns and 1 class label column. The columns are separated via white spaces. If your implementation is correct, the last line should show a data array in below the code cell that has the following contents:\n",
    "\n",
    "```\t     \n",
    "       x1\t x2   \ty\n",
    "0\t-3.84\t-4.40\t0\n",
    "1\t 16.36\t6.54\t1\n",
    "2\t-2.73\t-5.13\t0\n",
    "3\t 4.83\t 7.22\t1\n",
    "4\t 3.66\t-5.34\t0\n",
    "```"
   ]
  },
  {
   "cell_type": "code",
   "execution_count": null,
   "metadata": {
    "id": "AXD0jrSCKGdJ",
    "outputId": "f32cfce9-4be1-43fa-c0f2-dd0d8cd513c8"
   },
   "outputs": [
    {
     "data": {
      "text/html": [
       "<div>\n",
       "<style scoped>\n",
       "    .dataframe tbody tr th:only-of-type {\n",
       "        vertical-align: middle;\n",
       "    }\n",
       "\n",
       "    .dataframe tbody tr th {\n",
       "        vertical-align: top;\n",
       "    }\n",
       "\n",
       "    .dataframe thead th {\n",
       "        text-align: right;\n",
       "    }\n",
       "</style>\n",
       "<table border=\"1\" class=\"dataframe\">\n",
       "  <thead>\n",
       "    <tr style=\"text-align: right;\">\n",
       "      <th></th>\n",
       "      <th>x1 x2 y</th>\n",
       "    </tr>\n",
       "  </thead>\n",
       "  <tbody>\n",
       "    <tr>\n",
       "      <th>0</th>\n",
       "      <td>-3.84 -4.40 0</td>\n",
       "    </tr>\n",
       "    <tr>\n",
       "      <th>1</th>\n",
       "      <td>16.36 6.54 1</td>\n",
       "    </tr>\n",
       "    <tr>\n",
       "      <th>2</th>\n",
       "      <td>-2.73 -5.13 0</td>\n",
       "    </tr>\n",
       "    <tr>\n",
       "      <th>3</th>\n",
       "      <td>4.83 7.22 1</td>\n",
       "    </tr>\n",
       "    <tr>\n",
       "      <th>4</th>\n",
       "      <td>3.66 -5.34 0</td>\n",
       "    </tr>\n",
       "  </tbody>\n",
       "</table>\n",
       "</div>"
      ],
      "text/plain": [
       "         x1 x2 y\n",
       "0  -3.84 -4.40 0\n",
       "1   16.36 6.54 1\n",
       "2  -2.73 -5.13 0\n",
       "3    4.83 7.22 1\n",
       "4   3.66 -5.34 0"
      ]
     },
     "execution_count": 9,
     "metadata": {},
     "output_type": "execute_result"
    }
   ],
   "source": [
    "import pandas as pd\n",
    "\n",
    "df_train = pd.read_csv(\"C:\\\\Users\\\\T L S\\\\Desktop\\\\Green Vision\\\\FINAL\\\\train_data.txt\")\n",
    "df_train.head()"
   ]
  },
  {
   "cell_type": "markdown",
   "metadata": {
    "id": "1ijiD6_9KGdL"
   },
   "source": [
    "## E 14)\n",
    "\n",
    "Consider the following code below, which plots one the samples from class 0 in a 2D scatterplot using matplotlib:"
   ]
  },
  {
   "cell_type": "code",
   "execution_count": null,
   "metadata": {
    "id": "EvERm9giKGdM"
   },
   "outputs": [],
   "source": [
    "X_train = df_train[['x1', 'x2']].values\n",
    "y_train = df_train['y'].values"
   ]
  },
  {
   "cell_type": "code",
   "execution_count": null,
   "metadata": {
    "id": "PP9Dj9L8KGdN",
    "outputId": "8d9fc846-c83f-41f6-8e3e-0a6dfa6318a2"
   },
   "outputs": [
    {
     "data": {
      "image/png": "[encoded data removed]",
      "text/plain": [
       "<Figure size 432x288 with 1 Axes>"
      ]
     },
     "metadata": {},
     "output_type": "display_data"
    }
   ],
   "source": [
    "%matplotlib inline\n",
    "import matplotlib.pyplot as plt\n",
    "\n",
    "\n",
    "plt.scatter(X_train[y_train == 0, 0],\n",
    "            X_train[y_train == 0, 1],\n",
    "            label='class 0',)\n",
    "\n",
    "plt.xlabel('x1')\n",
    "plt.ylabel('x2')\n",
    "plt.xlim([-20, 20])\n",
    "plt.ylim([-20, 20])\n",
    "plt.legend(loc='upper left')\n",
    "plt.show()"
   ]
  },
  {
   "cell_type": "markdown",
   "metadata": {
    "id": "qbjlloh3KGdO"
   },
   "source": [
    "Now, the following code below is identical to the code in the previous code cell but contains partial code to also include the examples from the second class. Complete the second `plt.scatter` function to also plot the trainign examples from `class 1`."
   ]
  },
  {
   "cell_type": "code",
   "execution_count": null,
   "metadata": {
    "id": "MO391yFnKGdO",
    "outputId": "19b0e035-798c-4a0e-d619-ef227830b33a"
   },
   "outputs": [
    {
     "ename": "NameError",
     "evalue": "name 'X_train' is not defined",
     "output_type": "error",
     "traceback": [
      "\u001b[1;31m---------------------------------------------------------------------------\u001b[0m",
      "\u001b[1;31mNameError\u001b[0m                                 Traceback (most recent call last)",
      "Cell \u001b[1;32mIn[11], line 2\u001b[0m\n\u001b[0;32m      1\u001b[0m \u001b[38;5;28;01mimport\u001b[39;00m \u001b[38;5;21;01mmatplotlib\u001b[39;00m\u001b[38;5;21;01m.\u001b[39;00m\u001b[38;5;21;01mpyplot\u001b[39;00m \u001b[38;5;28;01mas\u001b[39;00m \u001b[38;5;21;01mplt\u001b[39;00m\n\u001b[1;32m----> 2\u001b[0m plt\u001b[38;5;241m.\u001b[39mscatter(\u001b[43mX_train\u001b[49m[y_train \u001b[38;5;241m==\u001b[39m \u001b[38;5;241m0\u001b[39m, \u001b[38;5;241m0\u001b[39m],\n\u001b[0;32m      3\u001b[0m             X_train[y_train \u001b[38;5;241m==\u001b[39m \u001b[38;5;241m0\u001b[39m, \u001b[38;5;241m1\u001b[39m],\n\u001b[0;32m      4\u001b[0m             label\u001b[38;5;241m=\u001b[39m\u001b[38;5;124m'\u001b[39m\u001b[38;5;124mclass 0\u001b[39m\u001b[38;5;124m'\u001b[39m,)\n\u001b[0;32m      6\u001b[0m plt\u001b[38;5;241m.\u001b[39mscatter(X_train[y_train \u001b[38;5;241m==\u001b[39m \u001b[38;5;241m1\u001b[39m, \u001b[38;5;241m0\u001b[39m],\n\u001b[0;32m      7\u001b[0m             X_train[y_train \u001b[38;5;241m==\u001b[39m \u001b[38;5;241m1\u001b[39m, \u001b[38;5;241m1\u001b[39m],\n\u001b[0;32m      8\u001b[0m             label\u001b[38;5;241m=\u001b[39m\u001b[38;5;124m'\u001b[39m\u001b[38;5;124mclass 1\u001b[39m\u001b[38;5;124m'\u001b[39m)\n\u001b[0;32m     10\u001b[0m plt\u001b[38;5;241m.\u001b[39mxlabel(\u001b[38;5;124m'\u001b[39m\u001b[38;5;124mx1\u001b[39m\u001b[38;5;124m'\u001b[39m)\n",
      "\u001b[1;31mNameError\u001b[0m: name 'X_train' is not defined"
     ]
    }
   ],
   "source": [
    "\n",
    "plt.scatter(X_train[y_train == 0, 0],\n",
    "            X_train[y_train == 0, 1],\n",
    "            label='class 0',)\n",
    "\n",
    "plt.scatter(X_train[y_train == 1, 0],\n",
    "            X_train[y_train == 1, 1],\n",
    "            label='class 1')\n",
    "\n",
    "plt.xlabel('x1')\n",
    "plt.ylabel('x2')\n",
    "plt.xlim([-20, 20])\n",
    "plt.ylim([-20, 20])\n",
    "plt.legend(loc='upper left')\n",
    "plt.show()"
   ]
  },
  {
   "cell_type": "markdown",
   "metadata": {
    "id": "a0NojVUaKGdQ"
   },
   "source": [
    "## E 15)\n",
    "\n",
    "Consider the we trained a 1-nearest neighbor classifier using scikit-learn on the previous training dataset:"
   ]
  },
  {
   "cell_type": "code",
   "execution_count": null,
   "metadata": {
    "id": "wNnPQW5aKGdR",
    "outputId": "e807a58b-d027-416e-cc13-a3126c2c1900"
   },
   "outputs": [
    {
     "data": {
      "text/plain": [
       "KNeighborsClassifier(algorithm='auto', leaf_size=30, metric='minkowski',\n",
       "           metric_params=None, n_jobs=1, n_neighbors=1, p=2,\n",
       "           weights='uniform')"
      ]
     },
     "execution_count": 14,
     "metadata": {},
     "output_type": "execute_result"
    }
   ],
   "source": [
    "from sklearn.neighbors import KNeighborsClassifier\n",
    "\n",
    "knn = KNeighborsClassifier(n_neighbors=1)\n",
    "knn.fit(X_train, y_train)"
   ]
  },
  {
   "cell_type": "code",
   "execution_count": null,
   "metadata": {
    "id": "scen8zBqKGdt",
    "outputId": "477a63fd-5941-42f7-c82b-f1760e3215e5"
   },
   "outputs": [
    {
     "data": {
      "text/plain": [
       "<matplotlib.axes._subplots.AxesSubplot at 0x1a1534b5c0>"
      ]
     },
     "execution_count": 15,
     "metadata": {},
     "output_type": "execute_result"
    },
    {
     "data": {
      "image/png": "[encoded data removed]",
      "text/plain": [
       "<Figure size 432x288 with 1 Axes>"
      ]
     },
     "metadata": {},
     "output_type": "display_data"
    }
   ],
   "source": [
    "from mlxtend.plotting import plot_decision_regions\n",
    "\n",
    "plot_decision_regions(X_train, y_train, knn)"
   ]
  },
  {
   "cell_type": "markdown",
   "metadata": {
    "id": "2ek5uzgRKGdu"
   },
   "source": [
    "Compute the misclassification error of the 1-NN classifier on the training set:"
   ]
  },
  {
   "cell_type": "code",
   "execution_count": null,
   "metadata": {
    "id": "cYd3ur-lKGdu"
   },
   "outputs": [
    {
     "ename": "NameError",
     "evalue": "name 'knn' is not defined",
     "output_type": "error",
     "traceback": [
      "\u001b[1;31m---------------------------------------------------------------------------\u001b[0m",
      "\u001b[1;31mNameError\u001b[0m                                 Traceback (most recent call last)",
      "Cell \u001b[1;32mIn[13], line 4\u001b[0m\n\u001b[0;32m      1\u001b[0m \u001b[38;5;28;01mfrom\u001b[39;00m \u001b[38;5;21;01msklearn\u001b[39;00m\u001b[38;5;21;01m.\u001b[39;00m\u001b[38;5;21;01mmetrics\u001b[39;00m \u001b[38;5;28;01mimport\u001b[39;00m accuracy_score\n\u001b[0;32m      3\u001b[0m \u001b[38;5;66;03m# Step 1: Make predictions on the training set\u001b[39;00m\n\u001b[1;32m----> 4\u001b[0m y_pred \u001b[38;5;241m=\u001b[39m \u001b[43mknn\u001b[49m\u001b[38;5;241m.\u001b[39mpredict(X_train)\n\u001b[0;32m      6\u001b[0m \u001b[38;5;66;03m# Step 2: Calculate accuracy\u001b[39;00m\n\u001b[0;32m      7\u001b[0m accuracy \u001b[38;5;241m=\u001b[39m accuracy_score(y_train, y_pred)\n",
      "\u001b[1;31mNameError\u001b[0m: name 'knn' is not defined"
     ]
    }
   ],
   "source": [
    "from sklearn.metrics import accuracy_score\n",
    "\n",
    "y_pred = knn.predict(X_train)\n",
    "\n",
    "accuracy = accuracy_score(y_train, y_pred)\n",
    "\n",
    "misclassification_error = 1 - accuracy\n",
    "\n",
    "print(\"Misclassification Error:\", misclassification_error)"
   ]
  },
  {
   "cell_type": "markdown",
   "metadata": {
    "id": "wiBWhGiKKGdv"
   },
   "source": [
    "## E 16)"
   ]
  },
  {
   "cell_type": "markdown",
   "metadata": {
    "id": "N5KLO632KGdv"
   },
   "source": [
    "Use the code from E 15) to\n",
    "\n",
    "- also visualize the decision boundaries of *k*-nearest neighbor classifiers with k=3, k=5, k=7, k=9\n",
    "- compute the prediction error on the training set for the *k*-nearest neighbor classifiers with k=3, k=5, k=7, k=9"
   ]
  },
  {
   "cell_type": "code",
   "execution_count": null,
   "metadata": {
    "id": "sNcrY8qIKGdv"
   },
   "outputs": [],
   "source": [
    "import numpy as np\n",
    "import matplotlib.pyplot as plt\n",
    "from sklearn.neighbors import KNeighborsClassifier\n",
    "from mlxtend.plotting import plot_decision_regions\n",
    "from sklearn.metrics import accuracy_score\n",
    "\n",
    "\n",
    "k_values = [1, 3, 5, 7, 9]\n",
    "\n",
    "fig, axes = plt.subplots(1, 5, figsize=(25, 5))\n",
    "\n",
    "\n",
    "for idx, k in enumerate(k_values):\n",
    "\n",
    "    knn = KNeighborsClassifier(n_neighbors=k)\n",
    "    knn.fit(X_train, y_train)\n",
    "    \n",
    "\n",
    "    plot_decision_regions(X_train, y_train, clf=knn, ax=axes[idx])\n",
    "    axes[idx].set_title(f'k = {k}')\n",
    "    axes[idx].set_xlim([-20, 20])\n",
    "    axes[idx].set_ylim([-20, 20])\n",
    "    \n",
    "\n",
    "    y_pred = knn.predict(X_train)\n",
    "    accuracy = accuracy_score(y_train, y_pred)\n",
    "    misclassification_error = 1 - accuracy\n",
    "    \n",
    "\n",
    "    print(f\"Misclassification Error for k={k}: {misclassification_error:.4f}\")\n",
    "\n",
    "\n",
    "plt.tight_layout()\n",
    "plt.show()\n"
   ]
  },
  {
   "cell_type": "markdown",
   "metadata": {
    "id": "ll8sL9ZfKGdx"
   },
   "source": [
    "## E 17)"
   ]
  },
  {
   "cell_type": "markdown",
   "metadata": {
    "id": "GGpNfEzlKGdx"
   },
   "source": [
    "Using the same approach you used in E 13), now load the `test_data.txt` file into a pandas array."
   ]
  },
  {
   "cell_type": "code",
   "execution_count": 17,
   "metadata": {
    "id": "vGLHzZGXKGdy"
   },
   "outputs": [
    {
     "data": {
      "text/html": [
       "<div>\n",
       "<style scoped>\n",
       "    .dataframe tbody tr th:only-of-type {\n",
       "        vertical-align: middle;\n",
       "    }\n",
       "\n",
       "    .dataframe tbody tr th {\n",
       "        vertical-align: top;\n",
       "    }\n",
       "\n",
       "    .dataframe thead th {\n",
       "        text-align: right;\n",
       "    }\n",
       "</style>\n",
       "<table border=\"1\" class=\"dataframe\">\n",
       "  <thead>\n",
       "    <tr style=\"text-align: right;\">\n",
       "      <th></th>\n",
       "      <th>x1 x2 y</th>\n",
       "    </tr>\n",
       "  </thead>\n",
       "  <tbody>\n",
       "    <tr>\n",
       "      <th>0</th>\n",
       "      <td>-5.75 -6.83 0</td>\n",
       "    </tr>\n",
       "    <tr>\n",
       "      <th>1</th>\n",
       "      <td>5.51 3.67 1</td>\n",
       "    </tr>\n",
       "    <tr>\n",
       "      <th>2</th>\n",
       "      <td>5.11 5.32 1</td>\n",
       "    </tr>\n",
       "    <tr>\n",
       "      <th>3</th>\n",
       "      <td>0.85 -4.11 0</td>\n",
       "    </tr>\n",
       "    <tr>\n",
       "      <th>4</th>\n",
       "      <td>-0.50 -0.45 1</td>\n",
       "    </tr>\n",
       "  </tbody>\n",
       "</table>\n",
       "</div>"
      ],
      "text/plain": [
       "         x1 x2 y\n",
       "0  -5.75 -6.83 0\n",
       "1    5.51 3.67 1\n",
       "2    5.11 5.32 1\n",
       "3   0.85 -4.11 0\n",
       "4  -0.50 -0.45 1"
      ]
     },
     "execution_count": 17,
     "metadata": {},
     "output_type": "execute_result"
    }
   ],
   "source": [
    "df_test = pd.read_csv(\"C:\\\\Users\\\\T L S\\\\Desktop\\\\Green Vision\\\\FINAL\\\\test_data.txt\")\n",
    "\n",
    "df_test.head()"
   ]
  },
  {
   "cell_type": "markdown",
   "metadata": {
    "id": "s4DCdpBpKGdy"
   },
   "source": [
    "Assign the features to `X_test` and the class labels to `y_test` (similar to E 13):"
   ]
  },
  {
   "cell_type": "code",
   "execution_count": null,
   "metadata": {
    "id": "6I-j8iFGKGdy"
   },
   "outputs": [],
   "source": [
    "X_test = df_test[['x1', 'x2']].values\n",
    "y_test = df_test['y'].values\n",
    "\n"
   ]
  },
  {
   "cell_type": "markdown",
   "metadata": {
    "id": "XU9HdYOEKGdz"
   },
   "source": [
    "## E 18)"
   ]
  },
  {
   "cell_type": "markdown",
   "metadata": {
    "id": "jGj395qGKGdz"
   },
   "source": [
    "Use the `train_test_split` function from scikit-learn to divide the training dataset further into a training subset and a validation set. The validation set should be 30% of the training dataset size, and the training subset should be 70% of the training dataset size.\n",
    "\n",
    "For you reference, the `train_test_split` function is documented at http://scikit-learn.org/stable/modules/generated/sklearn.model_selection.train_test_split.html."
   ]
  },
  {
   "cell_type": "code",
   "execution_count": null,
   "metadata": {
    "id": "2AlyAMrPKGd0"
   },
   "outputs": [],
   "source": [
    "from sklearn.model_selection import train_test_split\n",
    "\n",
    "\n",
    "X_train_sub, X_val, y_train_sub, y_val = train_test_split(X_test, y_test, test_size=0.3,random_state=123, stratify=y_train)"
   ]
  },
  {
   "cell_type": "markdown",
   "metadata": {
    "id": "7GpE2SWTKGd0"
   },
   "source": [
    "## E 19)"
   ]
  },
  {
   "cell_type": "markdown",
   "metadata": {
    "id": "lRdZ9REjKGd0"
   },
   "source": [
    "Write a for loop to evaluate different *k* nn models with k=1 to k=14. In particular, fit the `KNeighborsClassifier` on the training subset, then evaluate it on the training subset, validation subset, and test subset. Report the respective classification error or accuracy."
   ]
  },
  {
   "cell_type": "code",
   "execution_count": null,
   "metadata": {
    "id": "HU-E81mSKGd1"
   },
   "outputs": [],
   "source": [
    "for k in range(1, 15):\n",
    "    knn = KNeighborsClassifier(n_neighbors=k)\n",
    "    knn.fit(X_train_sub, y_train_sub)\n",
    "    # ENTER YOUR CODE HERE\n",
    "from sklearn.neighbors import KNeighborsClassifier\n",
    "from sklearn.metrics import accuracy_score\n",
    "\n",
    "\n",
    "for k in range(1, 15):\n",
    "    knn = KNeighborsClassifier(n_neighbors=k)\n",
    "    \n",
    "\n",
    "    knn.fit(X_train_sub, y_train_sub)\n",
    "    \n",
    "\n",
    "    y_train_pred = knn.predict(X_train_sub)\n",
    "    y_val_pred = knn.predict(X_val)\n",
    "    y_test_pred = knn.predict(X_test)\n",
    "    \n",
    "  \n",
    "    train_accuracy = accuracy_score(y_train_sub, y_train_pred)\n",
    "    val_accuracy = accuracy_score(y_val, y_val_pred)\n",
    "    test_accuracy = accuracy_score(y_test, y_test_pred)\n",
    "    \n",
    "\n",
    "    print(f\"k={k}\")\n",
    "    print(f\"Training Accuracy: {train_accuracy:.4f}\")\n",
    "    print(f\"Validation Accuracy: {val_accuracy:.4f}\")\n",
    "    print(f\"Test Accuracy: {test_accuracy:.4f}\")\n",
    "    print('-' * 30)\n"
   ]
  },
  {
   "cell_type": "markdown",
   "metadata": {
    "id": "aTvnBDL2KGd1"
   },
   "source": [
    "## E 20)"
   ]
  },
  {
   "cell_type": "markdown",
   "metadata": {
    "id": "tI3jBXjyKGd1"
   },
   "source": [
    "Consider the following code cell, where I implemented *k*-nearest neighbor classification algorithm following the the scikit-learn API"
   ]
  },
  {
   "cell_type": "code",
   "execution_count": null,
   "metadata": {
    "id": "X1zrVOJlKGd2"
   },
   "outputs": [],
   "source": [
    "import numpy as np\n",
    "\n",
    "\n",
    "class KNNClassifier(object):\n",
    "    def __init__(self, k, dist_fn=None):\n",
    "        self.k = k\n",
    "        if dist_fn is None:\n",
    "            self.dist_fn = self._euclidean_dist\n",
    "\n",
    "    def _euclidean_dist(self, a, b):\n",
    "        dist = 0.\n",
    "        for ele_i, ele_j in zip(a, b):\n",
    "            dist += ((ele_i - ele_j)**2)\n",
    "        dist = dist**0.5\n",
    "        return dist\n",
    "\n",
    "    def _find_nearest(self, x):\n",
    "        dist_idx_pairs = []\n",
    "        for j in range(self.dataset_.shape[0]):\n",
    "            d = self.dist_fn(x, self.dataset_[j])\n",
    "            dist_idx_pairs.append((d, j))\n",
    "\n",
    "        sorted_dist_idx_pairs = sorted(dist_idx_pairs)\n",
    "\n",
    "        return sorted_dist_idx_pairs\n",
    "\n",
    "    def fit(self, X, y):\n",
    "        self.dataset_ = X.copy()\n",
    "        self.labels_ = y.copy()\n",
    "        self.possible_labels_ = np.unique(y)\n",
    "\n",
    "    def predict(self, X):\n",
    "        predictions = np.zeros(X.shape[0], dtype=int)\n",
    "        for i in range(X.shape[0]):\n",
    "            k_nearest = self._find_nearest(X[i])[:self.k]\n",
    "            indices = [entry[1] for entry in k_nearest]\n",
    "            k_labels = self.labels_[indices]\n",
    "            counts = np.bincount(k_labels,\n",
    "                                 minlength=self.possible_labels_.shape[0])\n",
    "            pred_label = np.argmax(counts)\n",
    "            predictions[i] = pred_label\n",
    "        return predictions"
   ]
  },
  {
   "cell_type": "code",
   "execution_count": null,
   "metadata": {
    "id": "QDiHqznuKGd2"
   },
   "outputs": [],
   "source": [
    "five_test_inputs = X_train[:5]\n",
    "five_test_labels = y_train[:5]\n",
    "\n",
    "knn = KNNClassifier(k=1)\n",
    "knn.fit(five_test_inputs, five_test_labels)\n",
    "print('True labels:', five_test_labels)\n",
    "print('Pred labels:', knn.predict(five_test_inputs))"
   ]
  },
  {
   "cell_type": "markdown",
   "metadata": {
    "id": "R8Q6p-06KGd2"
   },
   "source": [
    "Since this is a very simple implementation of *k*NN, it is relatively slow -- very slow compared to the scikit-learn implementation which uses data structures such as Ball-tree and KD-tree to find the nearest neighbors more efficiently, as discussed in the lecture.\n",
    "\n",
    "While we won't implement advanced data structures in this class, there is already an obvious opportunity for improving the computational efficiency by replacing for-loops with vectorized NumPy code (as discussed in the lecture). In particular, consider the `_euclidean_dist` method in the `KNNClassifier` class above. Below, I have written is as a function (as opposed to a method), for simplicity:"
   ]
  },
  {
   "cell_type": "code",
   "execution_count": null,
   "metadata": {
    "id": "-QIaZaRPKGd3"
   },
   "outputs": [],
   "source": [
    "def euclidean_dist(a, b):\n",
    "    dist = 0.\n",
    "    for ele_i, ele_j in zip(a, b):\n",
    "        dist += ((ele_i - ele_j)**2)\n",
    "    dist = dist**0.5\n",
    "    return dist"
   ]
  },
  {
   "cell_type": "markdown",
   "metadata": {
    "id": "rJscZK0EKGd3"
   },
   "source": [
    "Your task is now to benchmark this function using the `%timeit` magic command that we talked about in class using two random vectors, `a` and `b` as function inputs:"
   ]
  },
  {
   "cell_type": "code",
   "execution_count": null,
   "metadata": {
    "id": "1x-G1nPIKGd3"
   },
   "outputs": [],
   "source": [
    "rng = np.random.RandomState(123)\n",
    "\n",
    "a = rng.rand(100)\n",
    "b = rng.rand(100)"
   ]
  },
  {
   "cell_type": "code",
   "execution_count": null,
   "metadata": {
    "id": "fLSXkD4vKGd4"
   },
   "outputs": [],
   "source": [
    "import numpy as np\n",
    "\n",
    "def euclidean_dist(a, b):\n",
    "    dist = 0.\n",
    "    for ele_i, ele_j in zip(a, b):\n",
    "        dist += ((ele_i - ele_j)**2)\n",
    "    dist = dist**0.5\n",
    "    return dist\n",
    "\n",
    "rng = np.random.RandomState(123)\n",
    "a = rng.rand(100)\n",
    "b = rng.rand(100)\n",
    "\n",
    "%timeit euclidean_dist(a, b)\n"
   ]
  },
  {
   "cell_type": "markdown",
   "metadata": {
    "id": "8MFKXw9bKGd4"
   },
   "source": [
    "## E 21)"
   ]
  },
  {
   "cell_type": "markdown",
   "metadata": {
    "id": "q77LNLtGKGd4"
   },
   "source": [
    "Now, rewrite the Euclidean distance function from E 20) in NumPy using\n",
    "- either using the `np.sqrt` and `np.sum` function\n",
    "- or using the `np.linalg.norm` function\n",
    "\n",
    "and benchmark it again using the `%timeit` magic command. Then, compare results with the results you got in E 22). Did you make the function faster? Yes or No? Explain why, in 1-2 sentences.\n"
   ]
  },
  {
   "cell_type": "code",
   "execution_count": null,
   "metadata": {
    "id": "S1d0rl3GKGd5"
   },
   "outputs": [],
   "source": [
    "import numpy as np\n",
    "\n",
    "def euclidean_dist_vectorized(a, b):\n",
    "    return np.sqrt(np.sum((a - b) ** 2))\n",
    "\n",
    "rng = np.random.RandomState(123)\n",
    "a = rng.rand(100)\n",
    "b = rng.rand(100)\n",
    "\n",
    "%timeit euclidean_dist_vectorized(a, b)\n"
   ]
  },
  {
   "cell_type": "markdown",
   "metadata": {},
   "source": [
    "Using np.linalg.norm"
   ]
  },
  {
   "cell_type": "code",
   "execution_count": null,
   "metadata": {},
   "outputs": [],
   "source": [
    "import numpy as np\n",
    "\n",
    "def euclidean_dist_norm(a, b):\n",
    "    return np.linalg.norm(a - b)\n",
    "\n",
    "%timeit euclidean_dist_norm(a, b)\n"
   ]
  },
  {
   "cell_type": "markdown",
   "metadata": {
    "id": "L3b6GqgZKGd5"
   },
   "source": [
    "## E 22)"
   ]
  },
  {
   "cell_type": "markdown",
   "metadata": {
    "id": "HaeyhUp3KGd5"
   },
   "source": [
    "Another inefficient aspect of the `KNNClassifier` implementation is that it uses the sorted function to sort all values in the distance value array. Since we are only interested in the *k* nearest neighbors, sorting *all* neighbors is quite unnecessary.\n",
    "\n",
    "Consider the array `c`:"
   ]
  },
  {
   "cell_type": "code",
   "execution_count": null,
   "metadata": {
    "id": "CNlNKoR-KGd6"
   },
   "outputs": [],
   "source": [
    "rng = np.random.RandomState(123)\n",
    "c = rng.rand(10000)"
   ]
  },
  {
   "cell_type": "markdown",
   "metadata": {
    "id": "ABw1zdUvKGd6"
   },
   "source": [
    "Call the sorted function to select the 3 smallest values in that array, we can do the following:"
   ]
  },
  {
   "cell_type": "code",
   "execution_count": null,
   "metadata": {
    "id": "BUJtOJN2KGd7"
   },
   "outputs": [],
   "source": [
    "sorted(c)[:3]"
   ]
  },
  {
   "cell_type": "markdown",
   "metadata": {
    "id": "9v1hjbG4KGd7"
   },
   "source": [
    "In the code cell below, use the `%timeit` magic command to benchmark the sorted command above:"
   ]
  },
  {
   "cell_type": "code",
   "execution_count": null,
   "metadata": {
    "id": "F6DpssduKGd7"
   },
   "outputs": [],
   "source": [
    "import numpy as np\n",
    "\n",
    "rng = np.random.RandomState(123)\n",
    "c = rng.rand(10000)\n",
    "\n",
    "%timeit sorted(c)[:3]\n"
   ]
  },
  {
   "cell_type": "markdown",
   "metadata": {
    "id": "-NLrjArmKGd8"
   },
   "source": [
    "A more efficient way to select the *k* smallest values from an array is to use a priority queue, for example, implemented using a heap data structure. A convenient `nsmallest` function that does exactly that is available from Python's standard library:"
   ]
  },
  {
   "cell_type": "code",
   "execution_count": null,
   "metadata": {
    "id": "ZobBp5XSKGd8"
   },
   "outputs": [],
   "source": [
    "from heapq import nsmallest\n",
    "\n",
    "nsmallest(3, c)"
   ]
  },
  {
   "cell_type": "markdown",
   "metadata": {
    "id": "k0_0_wCtKGd8"
   },
   "source": [
    "In the code cell below, use the `%timeit` magic command to benchmark the `nsmallest` function:"
   ]
  },
  {
   "cell_type": "code",
   "execution_count": null,
   "metadata": {
    "id": "3-fT1Sp7KGd9"
   },
   "outputs": [],
   "source": [
    "import numpy as np\n",
    "from heapq import nsmallest\n",
    "\n",
    "rng = np.random.RandomState(123)\n",
    "c = rng.rand(10000)\n",
    "\n",
    "%timeit nsmallest(3, c)\n"
   ]
  },
  {
   "cell_type": "markdown",
   "metadata": {
    "id": "wJPoDiSdKGd9"
   },
   "source": [
    "Summarize your findings in 1-3 sentences."
   ]
  },
  {
   "cell_type": "markdown",
   "metadata": {},
   "source": [
    "Using the `sorted` function to find the smallest `k` values in an array is less efficient because it requires sorting the entire array, which can be slow for large datasets. In contrast, the `heapq.nsmallest` function, which uses a heap data structure, provides a faster and more efficient way to find the smallest `k` values without fully sorting the array. Benchmarking shows that `nsmallest` significantly outperforms the full sort approach in terms of execution time."
   ]
  }
 ],
 "metadata": {
  "colab": {
   "provenance": []
  },
  "kernelspec": {
   "display_name": "Python 3 (ipykernel)",
   "language": "python",
   "name": "python3"
  },
  "language_info": {
   "codemirror_mode": {
    "name": "ipython",
    "version": 3
   },
   "file_extension": ".py",
   "mimetype": "text/x-python",
   "name": "python",
   "nbconvert_exporter": "python",
   "pygments_lexer": "ipython3",
   "version": "3.11.7"
  }
 },
 "nbformat": 4,
 "nbformat_minor": 4
}
