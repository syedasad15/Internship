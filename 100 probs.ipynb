{
 "cells": [
  {
   "cell_type": "code",
   "execution_count": null,
   "id": "75dbf551-e3df-465a-b65e-fc7ba6597296",
   "metadata": {},
   "outputs": [],
   "source": [
    "n1=float(input(\"Input First Age: \"))\n",
    "n2=float(input(\"Input Second Age: \"))\n",
    "n3=float(input(\"Input Third Age: \"))\n",
    "if(n1>n2 and n1>n3):\n",
    "    print(\"First Age is oldest\")\n",
    "if(n2>n1 and n2>n3):\n",
    "    print(\"Second Age is oldest\")\n",
    "if(n3>n2 and n3>n1):\n",
    "    print(\"Third Age is oldest\")            "
   ]
  },
  {
   "cell_type": "code",
   "execution_count": 1,
   "id": "946a716e",
   "metadata": {},
   "outputs": [
    {
     "name": "stdout",
     "output_type": "stream",
     "text": [
      "Enter Temperature in Celsius:  50\n"
     ]
    },
    {
     "name": "stdout",
     "output_type": "stream",
     "text": [
      "50.0 Celsis =  122.0 Farenheit\n"
     ]
    }
   ],
   "source": [
    "C=float(input('Enter Temperature in Celsius: '))\n",
    "F = ((9/5)*C) + 32\n",
    "print(C,\"Celsis = \",F,\"Farenheit\")"
   ]
  },
  {
   "cell_type": "code",
   "execution_count": 16,
   "id": "0a8771d5",
   "metadata": {},
   "outputs": [
    {
     "name": "stdout",
     "output_type": "stream",
     "text": [
      "Input First Number:  il\n"
     ]
    },
    {
     "ename": "ValueError",
     "evalue": "could not convert string to float: 'il'",
     "output_type": "error",
     "traceback": [
      "\u001b[1;31m---------------------------------------------------------------------------\u001b[0m",
      "\u001b[1;31mValueError\u001b[0m                                Traceback (most recent call last)",
      "Cell \u001b[1;32mIn[16], line 1\u001b[0m\n\u001b[1;32m----> 1\u001b[0m n1\u001b[38;5;241m=\u001b[39m\u001b[38;5;28mfloat\u001b[39m(\u001b[38;5;28minput\u001b[39m(\u001b[38;5;124m\"\u001b[39m\u001b[38;5;124mInput First Number: \u001b[39m\u001b[38;5;124m\"\u001b[39m))\n\u001b[0;32m      2\u001b[0m n2\u001b[38;5;241m=\u001b[39m\u001b[38;5;28mfloat\u001b[39m(\u001b[38;5;28minput\u001b[39m(\u001b[38;5;124m\"\u001b[39m\u001b[38;5;124mInput Second Number: \u001b[39m\u001b[38;5;124m\"\u001b[39m))\n\u001b[0;32m      3\u001b[0m n3\u001b[38;5;241m=\u001b[39mn2\n",
      "\u001b[1;31mValueError\u001b[0m: could not convert string to float: 'il'"
     ]
    }
   ],
   "source": [
    "n1=float(input(\"Input First Number: \"))\n",
    "n2=float(input(\"Input Second Number: \"))\n",
    "n3=n2\n",
    "n2=n1\n",
    "print(\"First Number: \",n3)\n",
    "print(\"Second Number: \",n2)"
   ]
  },
  {
   "cell_type": "code",
   "execution_count": 10,
   "id": "3930c068",
   "metadata": {},
   "outputs": [
    {
     "name": "stdout",
     "output_type": "stream",
     "text": [
      "Input a 3-Digit Number:  222\n"
     ]
    },
    {
     "name": "stdout",
     "output_type": "stream",
     "text": [
      "Sum is :  6.0\n"
     ]
    }
   ],
   "source": [
    "n=float(input(\"Input a 3-Digit Number: \"))\n",
    "n1=0\n",
    "while(not(n==0)):\n",
    "    n2=n%10\n",
    "    n1=n1+n2\n",
    "    n=int(n/10)\n",
    "print(\"Sum is : \",n1)\n"
   ]
  },
  {
   "cell_type": "code",
   "execution_count": 16,
   "id": "5f049ce2-c3e2-47d6-a6b1-f48dbc824e97",
   "metadata": {},
   "outputs": [
    {
     "name": "stdout",
     "output_type": "stream",
     "text": [
      "Input a 4-Digit Number:  4567\n"
     ]
    },
    {
     "name": "stdout",
     "output_type": "stream",
     "text": [
      "Reversed Number is: 7654\n"
     ]
    }
   ],
   "source": [
    "n=input(\"Input a 4-Digit Number: \")\n",
    "n2=n[3]+n[2]+n[1]+n[0]\n",
    "print(\"Reversed Number is:\",n2)\n",
    "\n"
   ]
  },
  {
   "cell_type": "code",
   "execution_count": 20,
   "id": "0b1bd44e-990b-411e-835b-1fa0ae3fec77",
   "metadata": {},
   "outputs": [
    {
     "name": "stdout",
     "output_type": "stream",
     "text": [
      "Enter any number 5\n"
     ]
    },
    {
     "name": "stdout",
     "output_type": "stream",
     "text": [
      "Odd Number\n"
     ]
    }
   ],
   "source": [
    "n=int(input(\"Enter any number\"))\n",
    "if n%2==0 and n>0:\n",
    "    print(\"Even Number\")\n",
    "elif not(n%2==0):\n",
    "    print(\"Odd Number\")\n",
    "else:\n",
    "    print(\"its zero\")"
   ]
  },
  {
   "cell_type": "code",
   "execution_count": 23,
   "id": "f48cd078-1e27-4d54-a4b3-9a453a68c921",
   "metadata": {},
   "outputs": [
    {
     "name": "stdout",
     "output_type": "stream",
     "text": [
      "Enter Year 0000\n"
     ]
    },
    {
     "name": "stdout",
     "output_type": "stream",
     "text": [
      "Wrong input\n"
     ]
    }
   ],
   "source": [
    "n=int(input(\"Enter Year\"))\n",
    "if n%4==0 and n>0:\n",
    "    print(\"Leap Year\")\n",
    "elif not(n%4==0):\n",
    "    print(\"Not a Leap Year\")\n",
    "else:\n",
    "    print(\"Wrong input\")"
   ]
  },
  {
   "cell_type": "code",
   "execution_count": 27,
   "id": "fe12cb1d-2527-49a7-be67-1142b183598e",
   "metadata": {},
   "outputs": [
    {
     "name": "stdout",
     "output_type": "stream",
     "text": [
      "Enter any Value:  4\n",
      "Enter any Value:  7\n",
      "Enter any Value:  8\n",
      "Enter any Value:  9\n"
     ]
    },
    {
     "name": "stdout",
     "output_type": "stream",
     "text": [
      "Euclidean Distance b/w 2 coordinates is:  12\n"
     ]
    }
   ],
   "source": [
    "def inputtaker():\n",
    "    return int(input(\"Enter any Value: \"))\n",
    "# Main\n",
    "x1=inputtaker()\n",
    "y1=inputtaker()\n",
    "x2=inputtaker()\n",
    "y2=inputtaker()\n",
    "print(\"Euclidean Distance b/w 2 coordinates is: \",(((x2-x1 )*2) + ((y2-y1)*2))) \n"
   ]
  },
  {
   "cell_type": "code",
   "execution_count": 31,
   "id": "b5f10ca5-aa62-4ced-b62b-71b901bde874",
   "metadata": {},
   "outputs": [
    {
     "name": "stdout",
     "output_type": "stream",
     "text": [
      "Enter the length of first side: 60\n",
      "Enter the length of second side: 60\n",
      "Enter the length of third side: 61\n"
     ]
    },
    {
     "name": "stdout",
     "output_type": "stream",
     "text": [
      "Triangle cannot be made\n"
     ]
    }
   ],
   "source": [
    "s1=float(input(\"Enter the length of first side:\"))\n",
    "s2=float(input(\"Enter the length of second side:\"))\n",
    "s3=float(input(\"Enter the length of third side:\"))\n",
    "if(s1+s2+s3==180):\n",
    "    print(\"Triangle can be made\")\n",
    "else:\n",
    "    print(\"Triangle cannot be made\")"
   ]
  },
  {
   "cell_type": "code",
   "execution_count": 34,
   "id": "ed314b24-d928-407c-ad5a-9c6b42dd8c41",
   "metadata": {},
   "outputs": [
    {
     "name": "stdout",
     "output_type": "stream",
     "text": [
      "Enter the Cost Price: 50\n",
      "Enter the Sales Price: 50\n"
     ]
    },
    {
     "name": "stdout",
     "output_type": "stream",
     "text": [
      "No Profit,No loss\n"
     ]
    }
   ],
   "source": [
    "cp=float(input(\"Enter the Cost Price:\"))\n",
    "sp=float(input(\"Enter the Sales Price:\"))\n",
    "if(cp<sp):\n",
    "    print(\"Its Profit\")\n",
    "elif(cp>sp):\n",
    "    print(\"Its loss\")\n",
    "else:\n",
    "    print(\"No Profit,No loss\")"
   ]
  },
  {
   "cell_type": "code",
   "execution_count": 35,
   "id": "bcb3f115-8b02-4e06-9be7-48323450bce2",
   "metadata": {},
   "outputs": [
    {
     "name": "stdout",
     "output_type": "stream",
     "text": [
      "Enter the value of Principal: 50\n",
      "Enter the value of Interest Rate:  40\n",
      "Enter the value of Time:  30\n"
     ]
    },
    {
     "name": "stdout",
     "output_type": "stream",
     "text": [
      "Simple Interest =  600.0\n"
     ]
    }
   ],
   "source": [
    "P=float(input(\"Enter the value of Principal:\"))\n",
    "R=float(input(\"Enter the value of Interest Rate: \"))\n",
    "T=float(input(\"Enter the value of Time: \"))\n",
    "print(\"Simple Interest = \",((P*R*T)/100))"
   ]
  },
  {
   "cell_type": "code",
   "execution_count": 37,
   "id": "8bd722bf-b920-4fba-b51f-f86b441718b3",
   "metadata": {},
   "outputs": [
    {
     "name": "stdout",
     "output_type": "stream",
     "text": [
      "Enter the Radius: 5\n",
      "Enter the Height:  4\n"
     ]
    },
    {
     "name": "stdout",
     "output_type": "stream",
     "text": [
      "The Volume of Cylinder is:  314.2857142857143\n",
      "The Price of Milk is:  12571.42857142857 Rs\n"
     ]
    }
   ],
   "source": [
    "r=float(input(\"Enter the Radius:\"))\n",
    "h=float(input(\"Enter the Height: \"))\n",
    "v=((22/7)*r*r*h)\n",
    "print(\"The Volume of Cylinder is: \",v)\n",
    "print(\"The Price of Milk is: \",v*40,\"Rs\")\n"
   ]
  },
  {
   "cell_type": "code",
   "execution_count": 44,
   "id": "3b988536-79d4-4037-add1-7d546b99f183",
   "metadata": {},
   "outputs": [
    {
     "name": "stdout",
     "output_type": "stream",
     "text": [
      "Enter any number 6\n"
     ]
    },
    {
     "name": "stdout",
     "output_type": "stream",
     "text": [
      "Divisible by 3 & 6\n"
     ]
    }
   ],
   "source": [
    "n=int(input(\"Enter any number\"))\n",
    "if n%3==0 and n%6==0:\n",
    "    print(\"Divisible by 3 & 6\")\n",
    "elif n%3==0:\n",
    "    print(\"Divisible by 3\")\n",
    "elif n%6==0:\n",
    "    print(\"Divisible by 6\")    \n",
    "else:\n",
    "    print(\"Not divisible by 3 & 6\")"
   ]
  },
  {
   "cell_type": "code",
   "execution_count": 48,
   "id": "8ec712ef-890c-4710-b069-c81777c52eda",
   "metadata": {},
   "outputs": [
    {
     "name": "stdout",
     "output_type": "stream",
     "text": [
      "Enter the Hour: 3\n",
      "Enter the Minute:  30\n"
     ]
    },
    {
     "name": "stdout",
     "output_type": "stream",
     "text": [
      "The angle between Hour & Minute is:  -75.0\n"
     ]
    }
   ],
   "source": [
    "H=float(input(\"Enter the Hour:\"))\n",
    "M=float(input(\"Enter the Minute: \"))\n",
    "print(\"The angle between Hour & Minute is: \",(((30*H)-((11/2)*M))))"
   ]
  },
  {
   "cell_type": "code",
   "execution_count": 3,
   "id": "508d33aa-db39-4044-b375-4c5224c1d877",
   "metadata": {},
   "outputs": [
    {
     "name": "stdout",
     "output_type": "stream",
     "text": [
      "Enter any Value:  0\n",
      "Enter any Value:  10\n",
      "Enter any Value:  5\n",
      "Enter any Value:  15\n",
      "Enter any Value:  10\n",
      "Enter any Value:  0\n",
      "Enter any Value:  5\n",
      "Enter any Value:  0\n"
     ]
    },
    {
     "name": "stdout",
     "output_type": "stream",
     "text": [
      "The Rectangles donot Overlap\n"
     ]
    }
   ],
   "source": [
    "\n",
    "def inputtaker():\n",
    "    return int(input(\"Enter any Value: \"))\n",
    "# Main\n",
    "x1=inputtaker()\n",
    "x2=inputtaker()\n",
    "x3=inputtaker()\n",
    "x4=inputtaker()\n",
    "y1=inputtaker()\n",
    "y2=inputtaker()\n",
    "y3=inputtaker()\n",
    "y4=inputtaker()\n",
    "if((x1>=x4)or(x2<=x3)or(y1<=y4)or(y2>=y3)):\n",
    "    print(\"The Rectangles Overlap\")\n",
    "else:\n",
    "    print(\"The Rectangles donot Overlap\")"
   ]
  },
  {
   "cell_type": "code",
   "execution_count": null,
   "id": "7e0679b1-4c23-4f2f-afb4-9703b21ce07d",
   "metadata": {},
   "outputs": [],
   "source": [
    "temp=int(input(\"Enter the Temperature: \"))\n",
    "humid=int(input(\"Enter the humidity: \"))\n",
    "if(temp>= 30 and humid>=90):\n",
    "    print(\"Hot and Humid\")\n",
    "elif(temp>= 30 and humid<90):\n",
    "    print(\"Hot\")\n",
    "elif(temp<30 and humid>= 90):\n",
    "    print(\"Cool and Humid\")\n",
    "elif(temp<30 and humid<90):\n",
    "    print(\"Cool\")\n",
    "else:\n",
    "    print(\"Wrong Input\")"
   ]
  },
  {
   "cell_type": "code",
   "execution_count": 1,
   "id": "e63afbc0-97e5-4f12-8487-561f291eab9e",
   "metadata": {},
   "outputs": [
    {
     "name": "stdout",
     "output_type": "stream",
     "text": [
      "Input a 3-Digit Number:  222\n"
     ]
    },
    {
     "name": "stdout",
     "output_type": "stream",
     "text": [
      "Sum is :  12.0\n"
     ]
    }
   ],
   "source": [
    "n=float(input(\"Input a 3-Digit Number: \"))\n",
    "n1=0\n",
    "while(not(n==0)):\n",
    "    n2=n%10\n",
    "    n1=n1+(n2*n2)\n",
    "    n=int(n/10)\n",
    "print(\"Sum is : \",n1)"
   ]
  },
  {
   "cell_type": "code",
   "execution_count": 14,
   "id": "2e97b843-0b61-4aed-9f2f-36f4332f31c3",
   "metadata": {},
   "outputs": [
    {
     "name": "stdout",
     "output_type": "stream",
     "text": [
      "Input a Number:  8208\n"
     ]
    },
    {
     "name": "stdout",
     "output_type": "stream",
     "text": [
      "Number is armstrong\n"
     ]
    }
   ],
   "source": [
    "n=int(input(\"Input a Number: \"))\n",
    "x=n\n",
    "n1=0\n",
    "while(not(n==0)):\n",
    "    n2=n%10\n",
    "    n1=n1+(n2*n2*n2)\n",
    "    n=int(n/10)\n",
    "if(n1==x):\n",
    "    print(\"Number is armstrong\")\n",
    "else:\n",
    "    print(\"Number is not armstrong\")"
   ]
  },
  {
   "cell_type": "code",
   "execution_count": null,
   "id": "b9c92405-3a71-442c-93fa-80cf81ebf193",
   "metadata": {},
   "outputs": [],
   "source": [
    "n=int(input(\"Input a 4-Digit Number: \"))\n",
    "x=n\n",
    "n1=0\n",
    "while(not(n==0)):\n",
    "    n2=n%10\n",
    "    n1=n1+(n2*n2*n2*n2)\n",
    "    n=int(n/10)\n",
    "if(n1==x):\n",
    "    print(\"Number is narcissistic\")\n",
    "else:\n",
    "    print(\"Number is not narcissistic\")"
   ]
  },
  {
   "cell_type": "code",
   "execution_count": 22,
   "id": "42558d72-3b76-4f8b-9589-7d9d86190497",
   "metadata": {},
   "outputs": [
    {
     "name": "stdout",
     "output_type": "stream",
     "text": [
      "Enter your Salary:  511111\n"
     ]
    },
    {
     "name": "stdout",
     "output_type": "stream",
     "text": [
      "91999.98\n",
      "Salary after Deduction:  367999.92000000004\n"
     ]
    }
   ],
   "source": [
    "\n",
    "salary=float(input(\"Enter your Salary: \"))\n",
    "s1=(salary*18)/100\n",
    "print(s1)\n",
    "if(salary>500000 and salary<=1000000):\n",
    "    tax=(salary/10)\n",
    "    print(\"Salary after Deduction: \",salary-s1-tax)\n",
    "elif(salary>1100000 and salary<=2000000):\n",
    "    tax=(salary/20)\n",
    "    print(\"Salary after Deduction: \",salary-s1-tax)\n",
    "elif(salary>2000000):\n",
    "    tax=(salary/30)\n",
    "    print(\"Salary after Deduction: \",salary-s1-tax)\n",
    "elif(salary>0 and salary<=100000):\n",
    "    print(\"K\")"
   ]
  },
  {
   "cell_type": "code",
   "execution_count": 6,
   "id": "859deb1d-58b2-467d-8281-535f74b853b0",
   "metadata": {},
   "outputs": [
    {
     "name": "stdout",
     "output_type": "stream",
     "text": [
      "1.Convert cm to ft\n",
      "2.Convert km to miles\n",
      "3.Convert usd to inr\n",
      "4.Exit\n"
     ]
    },
    {
     "name": "stdout",
     "output_type": "stream",
     "text": [
      "Press any key to Continue:  1\n",
      "Enter any Value:  5\n"
     ]
    },
    {
     "name": "stdout",
     "output_type": "stream",
     "text": [
      "cm in fts= 3.107520198881293\n"
     ]
    },
    {
     "name": "stdout",
     "output_type": "stream",
     "text": [
      "Press Enter to continue... \n"
     ]
    },
    {
     "name": "stdout",
     "output_type": "stream",
     "text": [
      "1.Convert cm to ft\n",
      "2.Convert km to miles\n",
      "3.Convert usd to inr\n",
      "4.Exit\n"
     ]
    },
    {
     "name": "stdout",
     "output_type": "stream",
     "text": [
      "Press any key to Continue:  \n"
     ]
    },
    {
     "name": "stdout",
     "output_type": "stream",
     "text": [
      "1.Convert cm to ft\n",
      "2.Convert km to miles\n",
      "3.Convert usd to inr\n",
      "4.Exit\n"
     ]
    },
    {
     "name": "stdout",
     "output_type": "stream",
     "text": [
      "Press any key to Continue:  2\n",
      "Enter any Value:  2\n"
     ]
    },
    {
     "name": "stdout",
     "output_type": "stream",
     "text": [
      "Km in Miles= 0.0656\n"
     ]
    },
    {
     "ename": "KeyboardInterrupt",
     "evalue": "Interrupted by user",
     "output_type": "error",
     "traceback": [
      "\u001b[1;31m---------------------------------------------------------------------------\u001b[0m",
      "\u001b[1;31mKeyboardInterrupt\u001b[0m                         Traceback (most recent call last)",
      "Cell \u001b[1;32mIn[6], line 26\u001b[0m\n\u001b[0;32m     24\u001b[0m     x\u001b[38;5;241m=\u001b[39minputtaker()\n\u001b[0;32m     25\u001b[0m     \u001b[38;5;28mprint\u001b[39m(\u001b[38;5;124m\"\u001b[39m\u001b[38;5;124mKm in Miles=\u001b[39m\u001b[38;5;124m\"\u001b[39m, x\u001b[38;5;241m*\u001b[39m\u001b[38;5;241m0.0328\u001b[39m)\n\u001b[1;32m---> 26\u001b[0m     pausecreator()\n\u001b[0;32m     27\u001b[0m     \u001b[38;5;28;01mcontinue\u001b[39;00m\n\u001b[0;32m     28\u001b[0m \u001b[38;5;28;01melif\u001b[39;00m(dec\u001b[38;5;241m==\u001b[39m\u001b[38;5;124m\"\u001b[39m\u001b[38;5;124m3\u001b[39m\u001b[38;5;124m\"\u001b[39m):\n",
      "Cell \u001b[1;32mIn[6], line 5\u001b[0m, in \u001b[0;36mpausecreator\u001b[1;34m()\u001b[0m\n\u001b[0;32m      4\u001b[0m \u001b[38;5;28;01mdef\u001b[39;00m \u001b[38;5;21mpausecreator\u001b[39m():\n\u001b[1;32m----> 5\u001b[0m     \u001b[38;5;28minput\u001b[39m(\u001b[38;5;124m\"\u001b[39m\u001b[38;5;124mPress Enter to continue...\u001b[39m\u001b[38;5;124m\"\u001b[39m)\n",
      "File \u001b[1;32mE:\\Anaconda\\Lib\\site-packages\\ipykernel\\kernelbase.py:1262\u001b[0m, in \u001b[0;36mKernel.raw_input\u001b[1;34m(self, prompt)\u001b[0m\n\u001b[0;32m   1260\u001b[0m     msg \u001b[38;5;241m=\u001b[39m \u001b[38;5;124m\"\u001b[39m\u001b[38;5;124mraw_input was called, but this frontend does not support input requests.\u001b[39m\u001b[38;5;124m\"\u001b[39m\n\u001b[0;32m   1261\u001b[0m     \u001b[38;5;28;01mraise\u001b[39;00m StdinNotImplementedError(msg)\n\u001b[1;32m-> 1262\u001b[0m \u001b[38;5;28;01mreturn\u001b[39;00m \u001b[38;5;28mself\u001b[39m\u001b[38;5;241m.\u001b[39m_input_request(\n\u001b[0;32m   1263\u001b[0m     \u001b[38;5;28mstr\u001b[39m(prompt),\n\u001b[0;32m   1264\u001b[0m     \u001b[38;5;28mself\u001b[39m\u001b[38;5;241m.\u001b[39m_parent_ident[\u001b[38;5;124m\"\u001b[39m\u001b[38;5;124mshell\u001b[39m\u001b[38;5;124m\"\u001b[39m],\n\u001b[0;32m   1265\u001b[0m     \u001b[38;5;28mself\u001b[39m\u001b[38;5;241m.\u001b[39mget_parent(\u001b[38;5;124m\"\u001b[39m\u001b[38;5;124mshell\u001b[39m\u001b[38;5;124m\"\u001b[39m),\n\u001b[0;32m   1266\u001b[0m     password\u001b[38;5;241m=\u001b[39m\u001b[38;5;28;01mFalse\u001b[39;00m,\n\u001b[0;32m   1267\u001b[0m )\n",
      "File \u001b[1;32mE:\\Anaconda\\Lib\\site-packages\\ipykernel\\kernelbase.py:1305\u001b[0m, in \u001b[0;36mKernel._input_request\u001b[1;34m(self, prompt, ident, parent, password)\u001b[0m\n\u001b[0;32m   1302\u001b[0m \u001b[38;5;28;01mexcept\u001b[39;00m \u001b[38;5;167;01mKeyboardInterrupt\u001b[39;00m:\n\u001b[0;32m   1303\u001b[0m     \u001b[38;5;66;03m# re-raise KeyboardInterrupt, to truncate traceback\u001b[39;00m\n\u001b[0;32m   1304\u001b[0m     msg \u001b[38;5;241m=\u001b[39m \u001b[38;5;124m\"\u001b[39m\u001b[38;5;124mInterrupted by user\u001b[39m\u001b[38;5;124m\"\u001b[39m\n\u001b[1;32m-> 1305\u001b[0m     \u001b[38;5;28;01mraise\u001b[39;00m \u001b[38;5;167;01mKeyboardInterrupt\u001b[39;00m(msg) \u001b[38;5;28;01mfrom\u001b[39;00m \u001b[38;5;28;01mNone\u001b[39;00m\n\u001b[0;32m   1306\u001b[0m \u001b[38;5;28;01mexcept\u001b[39;00m \u001b[38;5;167;01mException\u001b[39;00m:\n\u001b[0;32m   1307\u001b[0m     \u001b[38;5;28mself\u001b[39m\u001b[38;5;241m.\u001b[39mlog\u001b[38;5;241m.\u001b[39mwarning(\u001b[38;5;124m\"\u001b[39m\u001b[38;5;124mInvalid Message:\u001b[39m\u001b[38;5;124m\"\u001b[39m, exc_info\u001b[38;5;241m=\u001b[39m\u001b[38;5;28;01mTrue\u001b[39;00m)\n",
      "\u001b[1;31mKeyboardInterrupt\u001b[0m: Interrupted by user"
     ]
    }
   ],
   "source": [
    "import os\n",
    "def inputtaker():\n",
    "    return int(input(\"Enter any Value: \"))\n",
    "def pausecreator():\n",
    "    input(\"Press Enter to continue...\")\n",
    "def screencleaner():\n",
    "    os.system(\"cls\")\n",
    "# Main\n",
    "\n",
    "\n",
    "while(True): \n",
    "    screencleaner()\n",
    "    print(\"1.Convert cm to ft\")\n",
    "    print(\"2.Convert km to miles\")\n",
    "    print(\"3.Convert usd to inr\")\n",
    "    print(\"4.Exit\")\n",
    "    dec=input(\"Press any key to Continue: \")\n",
    "    if(dec==\"1\"):\n",
    "        x=inputtaker()\n",
    "        print(\"cm in fts=\", x/ 1.609)\n",
    "        pausecreator()\n",
    "        continue\n",
    "    elif(dec==\"2\"):\n",
    "        x=inputtaker()\n",
    "        print(\"Km in Miles=\", x*0.0328)\n",
    "        pausecreator()\n",
    "        continue\n",
    "    elif(dec==\"3\"):\n",
    "        x=inputtaker()\n",
    "        print(\"USD in INR=\", x*83.88)\n",
    "        pausecreator()\n",
    "        continue\n",
    "    elif(dec==\"4\"):\n",
    "        exit()"
   ]
  },
  {
   "cell_type": "code",
   "execution_count": 8,
   "id": "169b8432-7855-4a7a-9c0d-85035266d1cd",
   "metadata": {},
   "outputs": [
    {
     "name": "stdout",
     "output_type": "stream",
     "text": [
      "Enter the Number of heads 4\n",
      "Enter the Number of Legs 8\n"
     ]
    },
    {
     "name": "stdout",
     "output_type": "stream",
     "text": [
      "Dogs are  2.0\n"
     ]
    }
   ],
   "source": [
    "heads=int(input(\"Enter the Number of heads\"))\n",
    "legs=int(input(\"Enter the Number of Legs\"))\n",
    "if(legs>=4):\n",
    "    print(\"Dogs are \",legs/4)\n",
    "elif(legs==2):\n",
    "    print(\"Chicken are \",legs/2)\n",
    "\n",
    "        "
   ]
  },
  {
   "cell_type": "code",
   "execution_count": 11,
   "id": "0d59e66f-2fc7-4564-ae07-8e5e7700cc2e",
   "metadata": {},
   "outputs": [
    {
     "name": "stdout",
     "output_type": "stream",
     "text": [
      "Enter First Number:  1\n",
      "Enter Second Number:  2\n"
     ]
    },
    {
     "name": "stdout",
     "output_type": "stream",
     "text": [
      "First Number:  2\n",
      "Second Number:  1\n"
     ]
    }
   ],
   "source": [
    "n1=int(input(\"Enter First Number: \"))\n",
    "n2=int(input(\"Enter Second Number: \"))\n",
    "n3=n1\n",
    "n1=n2\n",
    "n2=n3\n",
    "print(\"First Number: \",n1)\n",
    "print(\"Second Number: \",n2)"
   ]
  },
  {
   "cell_type": "code",
   "execution_count": 13,
   "id": "f6759617-d026-4e15-8a4f-7e7ee987c87e",
   "metadata": {},
   "outputs": [
    {
     "name": "stdout",
     "output_type": "stream",
     "text": [
      "Enter upto how much number you want Sum:  10\n"
     ]
    },
    {
     "name": "stdout",
     "output_type": "stream",
     "text": [
      "Sum :  55\n"
     ]
    }
   ],
   "source": [
    "n=int(input(\"Enter upto how much number you want Sum: \"))\n",
    "sum=0\n",
    "for i in range(0,n+1):\n",
    "    sum=sum+i\n",
    "print(\"Sum : \",sum)"
   ]
  },
  {
   "cell_type": "code",
   "execution_count": 30,
   "id": "2ece590d-9e89-4d96-9ecf-17b077ffc255",
   "metadata": {},
   "outputs": [
    {
     "name": "stdout",
     "output_type": "stream",
     "text": [
      "Enter First Number:  10\n",
      "Enter Second Number:  20\n"
     ]
    },
    {
     "name": "stdout",
     "output_type": "stream",
     "text": [
      "10 * 20 = 200\n"
     ]
    }
   ],
   "source": [
    "n1=int(input(\"Enter First Number: \"))\n",
    "n2=int(input(\"Enter Second Number: \"))\n",
    "product=0\n",
    "for i in range(0,n2):\n",
    "    product=product+n1\n",
    "print(n1,\"*\",n2,\"=\" ,product)"
   ]
  },
  {
   "cell_type": "code",
   "execution_count": 48,
   "id": "e813908b-c3d8-415e-b6bb-597e9666a94e",
   "metadata": {},
   "outputs": [
    {
     "name": "stdout",
     "output_type": "stream",
     "text": [
      "Enter First Number:  \n"
     ]
    },
    {
     "ename": "ValueError",
     "evalue": "invalid literal for int() with base 10: ''",
     "output_type": "error",
     "traceback": [
      "\u001b[1;31m---------------------------------------------------------------------------\u001b[0m",
      "\u001b[1;31mValueError\u001b[0m                                Traceback (most recent call last)",
      "Cell \u001b[1;32mIn[48], line 1\u001b[0m\n\u001b[1;32m----> 1\u001b[0m n1\u001b[38;5;241m=\u001b[39m\u001b[38;5;28mint\u001b[39m(\u001b[38;5;28minput\u001b[39m(\u001b[38;5;124m\"\u001b[39m\u001b[38;5;124mEnter First Number: \u001b[39m\u001b[38;5;124m\"\u001b[39m))\n\u001b[0;32m      2\u001b[0m fact\u001b[38;5;241m=\u001b[39m\u001b[38;5;241m1\u001b[39m\n\u001b[0;32m      3\u001b[0m \u001b[38;5;28;01mfor\u001b[39;00m i \u001b[38;5;129;01min\u001b[39;00m \u001b[38;5;28mrange\u001b[39m(\u001b[38;5;241m1\u001b[39m,n1\u001b[38;5;241m+\u001b[39m\u001b[38;5;241m1\u001b[39m):\n",
      "\u001b[1;31mValueError\u001b[0m: invalid literal for int() with base 10: ''"
     ]
    }
   ],
   "source": [
    "n1=int(input(\"Enter First Number: \"))\n",
    "fact=1\n",
    "for i in range(1,n1+1):\n",
    "    fact=fact*i\n",
    "print(\"Factorial =\" ,fact)"
   ]
  },
  {
   "cell_type": "code",
   "execution_count": null,
   "id": "80ce517e-b2a3-4018-82a6-8df26b62d4ca",
   "metadata": {},
   "outputs": [],
   "source": [
    "a=0\n",
    "i=1\n",
    "while(a<=25):\n",
    "    if(not i%2==0):\n",
    "        print(i)\n",
    "        a=a+1\n",
    "    i=i+1           \n"
   ]
  },
  {
   "cell_type": "code",
   "execution_count": null,
   "id": "680c806f-edf2-45e2-8950-95840ab4320c",
   "metadata": {},
   "outputs": [],
   "source": [
    "def isPrime(n, i):\n",
    "    if (n == 0 or n == 1):\n",
    "        return False\n",
    "    \n",
    "    if (n == i):\n",
    "        return True\n",
    "    \n",
    "    if (n % i == 0):\n",
    "        return False\n",
    "    i += 1\n",
    "    return isPrime(n, i)\n",
    "\n",
    "if (isPrime(35, 2)):\n",
    "    print(\"true\")\n",
    "else:\n",
    "    print(\"false\")"
   ]
  },
  {
   "cell_type": "code",
   "execution_count": null,
   "id": "9297210e",
   "metadata": {},
   "outputs": [],
   "source": [
    "for n in range(100,1001):\n",
    "    x=n\n",
    "    n1=0\n",
    "    while(not(n==0)):\n",
    "        n2=n%10\n",
    "        n1=n1+(n2*n2*n2)\n",
    "        n=int(n/10)\n",
    "    if(n1==x):\n",
    "        print(n1)"
   ]
  },
  {
   "cell_type": "code",
   "execution_count": null,
   "id": "a5c8bae1",
   "metadata": {},
   "outputs": [],
   "source": [
    "for i in range(10,1,-1):\n",
    "    print(i,\"year - \",((((10000*10)/100))*(i)))"
   ]
  },
  {
   "cell_type": "code",
   "execution_count": null,
   "id": "2a76862d",
   "metadata": {},
   "outputs": [],
   "source": [
    "num = [1, 2, 3, 4]\n",
    "\n",
    "def generateComb(a, b):\n",
    "    if b:\n",
    "        for i in range(len(b)):\n",
    "            a2 = a + [b[i]]\n",
    "            print(a2)\n",
    "            generateComb(a2, b[i+1:])\n",
    "\n",
    "generateComb([], num)\n"
   ]
  },
  {
   "cell_type": "code",
   "execution_count": null,
   "id": "306e84de",
   "metadata": {},
   "outputs": [],
   "source": [
    "def HCF(a, b):\n",
    "    if b == 0:\n",
    "        return a\n",
    "    else:\n",
    "        return HCF(b, a % b)\n",
    "def inputtaker():\n",
    "    return int(input(\"Enter any Value: \"))\n",
    "# Main\n",
    "n1=inputtaker()\n",
    "n2=inputtaker()    \n",
    "a=HCF(n1,n2)\n",
    "print(f\"The HCF of\",n1,\" and \",n2,\" is:\",a)"
   ]
  },
  {
   "cell_type": "code",
   "execution_count": null,
   "id": "42d10289",
   "metadata": {},
   "outputs": [],
   "source": [
    "def gcd(a, b):\n",
    "    while b:\n",
    "        a, b = b, a % b\n",
    "    return a\n",
    "\n",
    "def lcm(a, b):\n",
    "    return abs(a * b) / gcd(a, b)\n",
    "# MAIN\n",
    "n1 = int(input(\"Enter the first number: \"))\n",
    "n2 = int(input(\"Enter the second number: \"))\n",
    "result = int(lcm(n1, n2))\n",
    "print(f\"The LCM of \",n1,\" and \",n2,\" is \",result,\".\")\n",
    "\n"
   ]
  },
  {
   "cell_type": "code",
   "execution_count": null,
   "id": "4ed7f47f",
   "metadata": {},
   "outputs": [],
   "source": [
    "def isprime(n):\n",
    "    if n <= 1:\n",
    "        return False\n",
    "    if n == 2 or n == 3:\n",
    "        return True\n",
    "    if n % 2 == 0 or n % 3 == 0:\n",
    "        return False\n",
    "    i = 5\n",
    "    while i * i <= n:\n",
    "        if n % i == 0 or n % (i + 2) == 0:\n",
    "            return False\n",
    "        i += 6\n",
    "    return True\n",
    "\n",
    "def printprimes(n):\n",
    "    count = 0\n",
    "    num = 2\n",
    "    while count < n:\n",
    "        if isprime(num):\n",
    "            print(num, end=' ')\n",
    "            count += 1\n",
    "        num += 1\n",
    "\n",
    "printprimes(25)\n"
   ]
  },
  {
   "cell_type": "code",
   "execution_count": null,
   "id": "8bf23b9f",
   "metadata": {},
   "outputs": [],
   "source": [
    "a = 0\n",
    "b = 1\n",
    "for i in range(20):\n",
    "        print(a)\n",
    "        temp = a + b\n",
    "        a = b\n",
    "        b = temp"
   ]
  },
  {
   "cell_type": "code",
   "execution_count": null,
   "id": "a9d41e44",
   "metadata": {},
   "outputs": [],
   "source": [
    "P=input(\"Enter the initial sum of money invested or borrowed: \")\n",
    "r=input(\"Enter the annual interest rate: \")\n",
    "n=input(\"Enter the number of times the interest is compounded per year: \")\n",
    "t=input(\"Enter the number of years the money is invested or borrowed for: \")\n",
    "CI = ((P*(((1 + (r/n)))**(n*t)))-P)\n",
    "print(\"CI = \",CI)"
   ]
  },
  {
   "cell_type": "code",
   "execution_count": null,
   "id": "8d54b58c",
   "metadata": {},
   "outputs": [],
   "source": [
    "n=float(input(\"Enter any Number: \"))\n",
    "print(\"Result = \",(n+(n*n)+(n*n*n)))"
   ]
  },
  {
   "cell_type": "code",
   "execution_count": null,
   "id": "13c7e3d7",
   "metadata": {},
   "outputs": [],
   "source": [
    "b=1\n",
    "num=0\n",
    "n1=int(input(\"Enter any Number: \"))\n",
    "n=n1\n",
    "while(not b==0):\n",
    "    a=n%10\n",
    "    b=int(n/10)\n",
    "    n=b\n",
    "    num+=1\n",
    "print(\"Number of Digits in\",n1,\"= \",num)    "
   ]
  },
  {
   "cell_type": "code",
   "execution_count": null,
   "id": "da5fbcfb",
   "metadata": {},
   "outputs": [],
   "source": [
    "n=int(input(\"Enter any Number: \"))\n",
    "for i in range(1,n+1):\n",
    "    if(n%i==0):\n",
    "        print(i)  "
   ]
  },
  {
   "cell_type": "code",
   "execution_count": null,
   "id": "13c3d654",
   "metadata": {},
   "outputs": [],
   "source": [
    "\n",
    "b=1\n",
    "num=[]\n",
    "n1=int(input(\"Enter any Number: \"))\n",
    "n=n1\n",
    "while(not b==0):\n",
    "    a=n%10\n",
    "    b=int(n/10)\n",
    "    n=b\n",
    "    num.append(a)\n",
    "print(num)    \n",
    "  "
   ]
  },
  {
   "cell_type": "code",
   "execution_count": null,
   "id": "6ec43d10",
   "metadata": {},
   "outputs": [],
   "source": [
    "n = 5\n",
    "for i in range(1, n + 1):\n",
    "    print('*' * i)"
   ]
  },
  {
   "cell_type": "code",
   "execution_count": null,
   "id": "6538420f",
   "metadata": {},
   "outputs": [],
   "source": [
    "n = 3\n",
    "for i in range(1, n + 1):\n",
    "    print('*' * i)\n",
    "for i in range(n - 1, 0, -1):\n",
    "    print('*' * i)"
   ]
  },
  {
   "cell_type": "code",
   "execution_count": null,
   "id": "86d12173",
   "metadata": {},
   "outputs": [],
   "source": [
    "n = 5\n",
    "for i in range(1, n + 1):\n",
    "    print(' ' * (n - i), end='')\n",
    "    print('* ' * (2 * i - 1))\n"
   ]
  },
  {
   "cell_type": "code",
   "execution_count": null,
   "id": "3bc40419",
   "metadata": {},
   "outputs": [],
   "source": [
    "n = 5 \n",
    "for i in range(1, n + 1):\n",
    "    for j in range(1, i + 1):\n",
    "        print(j, end=' ')\n",
    "    for j in range(i - 1, 0, -1):\n",
    "        print(j, end=' ')\n",
    "    print()"
   ]
  },
  {
   "cell_type": "code",
   "execution_count": null,
   "id": "c6fc34ec",
   "metadata": {},
   "outputs": [],
   "source": [
    "n = 4 \n",
    "num = 1\n",
    "for i in range(1, n + 1):\n",
    "    for j in range(i):\n",
    "        print(num, end=' ')\n",
    "        num += 1\n",
    "    print()\n"
   ]
  },
  {
   "cell_type": "code",
   "execution_count": null,
   "id": "3d87767b",
   "metadata": {},
   "outputs": [],
   "source": [
    "import math as mt\n",
    "n = int(input(\"Enter the value of n: \"))\n",
    "series = 0\n",
    "for i in range(1, n + 1):\n",
    "    series += i / mt.factorial(i)\n",
    "print(\"Sum of the series:\", series)\n"
   ]
  },
  {
   "cell_type": "code",
   "execution_count": null,
   "id": "be46b2ff",
   "metadata": {},
   "outputs": [],
   "source": [
    "x = float(input(\"Enter the value of x: \"))\n",
    "n = int(input(\"Enter the value of n: \"))\n",
    "series = 1\n",
    "for i in range(2, n + 1):\n",
    "    term = (x**i) / i\n",
    "    series += term\n",
    "print(\"Sum of the series:\", series)\n"
   ]
  },
  {
   "cell_type": "code",
   "execution_count": null,
   "id": "066e7b65",
   "metadata": {},
   "outputs": [],
   "source": [
    "x = float(input(\"Enter the value of x: \"))\n",
    "n = int(input(\"Enter the number of terms to calculate: \"))\n",
    "series_sum = 0\n",
    "term_base = (x - 1) / x\n",
    "for i in range(1, n + 1):\n",
    "    term = (1 / 2) * (term_base ** i)\n",
    "    series_sum += term\n",
    "print(\"Sum of the series:\", series_sum)\n"
   ]
  },
  {
   "cell_type": "code",
   "execution_count": null,
   "id": "e56481f0",
   "metadata": {},
   "outputs": [],
   "source": [
    "import numpy as np\n",
    "num=[]\n",
    "i=0\n",
    "while(True):\n",
    "    x=int(input(\"Enter any number: \"))\n",
    "    if(not x==0):\n",
    "        num.append(x)\n",
    "    else:\n",
    "        break\n",
    "numarray=np.array(num)\n",
    "print(\"Average: \",np.average(num))\n",
    "print(\"Sum: \",np.sum(num))\n"
   ]
  },
  {
   "cell_type": "code",
   "execution_count": null,
   "id": "e7bfb9b5",
   "metadata": {},
   "outputs": [],
   "source": [
    "num=int(input(\"Enter Numerator: \"))\n",
    "den=int(input(\"Enter Denominator: \"))\n",
    "print(int(num/num),\"/\",int(den/num))"
   ]
  },
  {
   "cell_type": "code",
   "execution_count": null,
   "id": "ed349756",
   "metadata": {},
   "outputs": [],
   "source": [
    "a=0\n",
    "string=input(\"Enter any String: \")\n",
    "for i in string:\n",
    "    a+=1\n",
    "print(a) "
   ]
  },
  {
   "cell_type": "code",
   "execution_count": null,
   "metadata": {},
   "outputs": [],
   "source": [
    "email=input(\"Enter your E-mail: \")\n",
    "username=\"\"\n",
    "i=0\n",
    "while (True):\n",
    "    if(not email[i]==\"@\"):\n",
    "        username=username+(email[i])\n",
    "        i+=1\n",
    "    else:\n",
    "        break\n",
    "print(username)"
   ]
  },
  {
   "cell_type": "code",
   "execution_count": null,
   "id": "676b2286",
   "metadata": {},
   "outputs": [],
   "source": [
    "count=0\n",
    "string=input(\"Enter String: \")\n",
    "char=input(\"Enter the character to be counted: \")\n",
    "count=string.count(char)\n",
    "print(count)"
   ]
  },
  {
   "cell_type": "code",
   "execution_count": null,
   "id": "d00f17e2",
   "metadata": {},
   "outputs": [],
   "source": [
    "string=input(\"Enter String: \")\n",
    "char=input(\"Enter the character to be counted: \")\n",
    "i=0\n",
    "while (True):\n",
    "    if( string[i]==char):\n",
    "        print(i)\n",
    "        break\n",
    "    else:\n",
    "        i+=1"
   ]
  },
  {
   "cell_type": "code",
   "execution_count": null,
   "id": "b774e40d",
   "metadata": {},
   "outputs": [],
   "source": [
    "string=input(\"Enter String: \")\n",
    "count=0\n",
    "for i in range(0,len(string)):\n",
    "    if(string[i]==\"a\" or string[i]==\"e\" or string[i]==\"i\" or string[i]==\"o\" or string[i]==\"u\"):\n",
    "        count+=1\n",
    "print(\"Number of vowels in string: \",count)"
   ]
  },
  {
   "cell_type": "code",
   "execution_count": null,
   "id": "d25b8d1e",
   "metadata": {},
   "outputs": [],
   "source": [
    "string=input(\"Enter String: \")\n",
    "char=input(\"Enter character you want to remove: \")\n",
    "count=0\n",
    "s=string.replace(char,\"\")\n",
    "print(\"String after removing character: \",s)"
   ]
  },
  {
   "cell_type": "code",
   "execution_count": null,
   "id": "5e8f37a3",
   "metadata": {},
   "outputs": [],
   "source": [
    "string = input(\"Enter a string: \")\n",
    "string = string.replace(\" \", \"\").lower()\n",
    "x = len(string)\n",
    "is_palindrome = True\n",
    "for i in range(x // 2):\n",
    "    if string[i] != string[x - i - 1]:\n",
    "        is_palindrome = False\n",
    "        break\n",
    "if is_palindrome:\n",
    "    print(\"The string is a palindrome.\")\n",
    "else:\n",
    "    print(\"The string is not a palindrome.\")"
   ]
  },
  {
   "cell_type": "code",
   "execution_count": null,
   "id": "ebf36b54",
   "metadata": {},
   "outputs": [],
   "source": [
    "original_list = [1, 2, 2, 3, 4, 4, 5, 6, 6]\n",
    "unique_list = list(set(original_list))\n",
    "print(\"List after removing duplicates:\", unique_list)"
   ]
  },
  {
   "cell_type": "code",
   "execution_count": null,
   "id": "fc473e7d",
   "metadata": {},
   "outputs": [],
   "source": [
    "def to_title_case(string):\n",
    "    if len(string) == 0:\n",
    "        return \"\"\n",
    "    result = string[0].upper()\n",
    "    for i in range(1, len(string)):\n",
    "        if string[i-1] == \" \":\n",
    "            result += string[i].upper()\n",
    "        else:\n",
    "            result += string[i].lower()\n",
    "    return result\n",
    "string = input(\"Enter String: \")\n",
    "title_case_string = to_title_case(string)\n",
    "print(\"Title case: \", title_case_string)\n"
   ]
  },
  {
   "cell_type": "code",
   "execution_count": null,
   "id": "99f33f73",
   "metadata": {},
   "outputs": [],
   "source": [
    "list=[1,4,15,9,10]\n",
    "list.sort()\n",
    "print(list[len(list)-1])\n"
   ]
  },
  {
   "cell_type": "code",
   "execution_count": null,
   "id": "da2997d4",
   "metadata": {},
   "outputs": [],
   "source": [
    "l=[1,3,5,2]\n",
    "l.reverse()\n",
    "print(l)"
   ]
  },
  {
   "cell_type": "code",
   "execution_count": null,
   "id": "216384b4",
   "metadata": {},
   "outputs": [],
   "source": [
    "list=[]\n",
    "count=0\n",
    "while(True):\n",
    "    x=input(\"Enter any Number... Press M to stop entering: \")\n",
    "    if(x==\"M\" or x==\"m\" ):\n",
    "        break\n",
    "    else:\n",
    "        list.append(x)\n",
    "find=input(\"Enter anything to find: \")\n",
    "for i in range(len(list)):\n",
    "    if(list[i]==find):\n",
    "        count+=1\n",
    "if(count>=1):\n",
    "    print(find,\"Found in List\",list)\n",
    "else:\n",
    "    print(\"Number is not present\")"
   ]
  },
  {
   "cell_type": "code",
   "execution_count": null,
   "id": "b3f1a79b",
   "metadata": {},
   "outputs": [],
   "source": [
    "list=[]\n",
    "while(True):\n",
    "    x=int(input(\"Enter any Number... Press 00 to stop entering: \"))\n",
    "    if(x==00):\n",
    "        break\n",
    "    else:\n",
    "        list.append(x)\n",
    "newlist=[]\n",
    "for i in range(len(list)):\n",
    "    newlist.append((list[i]*list[i]))\n",
    "print(newlist)"
   ]
  },
  {
   "cell_type": "code",
   "execution_count": null,
   "id": "623ddb0b",
   "metadata": {},
   "outputs": [],
   "source": [
    "x=(input(\"Enter string: \"))\n",
    "a=\"\"\n",
    "for i in range(len(x)-1,-1,-1):\n",
    "    a=a+x[i]\n",
    "print(a)"
   ]
  },
  {
   "cell_type": "code",
   "execution_count": null,
   "id": "bfc4fbc1",
   "metadata": {},
   "outputs": [],
   "source": [
    "x=(input(\"Enter string: \"))\n",
    "print(len(x))"
   ]
  },
  {
   "cell_type": "code",
   "execution_count": null,
   "id": "af737d68",
   "metadata": {},
   "outputs": [],
   "source": [
    "list=[]\n",
    "checker=True\n",
    "while(True):\n",
    "    x=int(input(\"Enter any Number... Press 00 to stop entering: \"))\n",
    "    if(x==00):\n",
    "        break\n",
    "    else:\n",
    "        list.append(x)\n",
    "for i in range(0,(len(list)-1)):\n",
    "    if(not list[i]<list[i+1]):\n",
    "        checker=False\n",
    "if(checker):\n",
    "    print(\"List is in ascending order\")\n",
    "else:\n",
    "    print(\"List is not in ascending order\")     "
   ]
  },
  {
   "cell_type": "code",
   "execution_count": null,
   "id": "dac29234",
   "metadata": {},
   "outputs": [],
   "source": [
    "list=[]\n",
    "while(True):\n",
    "    x=int(input(\"Enter any Number... Press 00 to stop entering: \"))\n",
    "    if(x==00):\n",
    "        break\n",
    "    else:\n",
    "        list.append(x)\n",
    "even=[]\n",
    "odd=[]\n",
    "for i in range(len(list)):\n",
    "    if(list[i]%2==0):\n",
    "        even.append(list[i])\n",
    "    if(not list[i]%2==0):\n",
    "        odd.append(list[i])\n",
    "    \n",
    "print(\"Even\",even)\n",
    "print(\"Odd\",odd)"
   ]
  },
  {
   "cell_type": "code",
   "execution_count": null,
   "id": "379294c0",
   "metadata": {},
   "outputs": [],
   "source": [
    "list=[]\n",
    "while(True):\n",
    "    x=int(input(\"Enter any Number... Press 00 to stop entering: \"))\n",
    "    if(x==00):\n",
    "        break\n",
    "    else:\n",
    "        list.append(x)\n",
    "print(\"\\n\")\n",
    "list2=[]\n",
    "while(True):\n",
    "    x=int(input(\"Enter any Number for Second List... Press 00 to stop entering: \"))\n",
    "    if(x==00):\n",
    "        break\n",
    "    else:\n",
    "        list2.append(x)\n",
    "print(\"List 1= \",list)\n",
    "print(\"List 2= \",list2)        \n",
    "for i in range(0,len(list2)):\n",
    "        list.append(list2[i])\n",
    "print(\"Merged List: \",list)    "
   ]
  }
 ],
 "metadata": {
  "kernelspec": {
   "display_name": "Python 3 (ipykernel)",
   "language": "python",
   "name": "python3"
  },
  "language_info": {
   "codemirror_mode": {
    "name": "ipython",
    "version": 3
   },
   "file_extension": ".py",
   "mimetype": "text/x-python",
   "name": "python",
   "nbconvert_exporter": "python",
   "pygments_lexer": "ipython3",
   "version": "3.11.7"
  }
 },
 "nbformat": 4,
 "nbformat_minor": 5
}
